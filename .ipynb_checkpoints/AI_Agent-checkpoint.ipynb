{
 "cells": [
  {
   "cell_type": "markdown",
   "id": "a39eca39-7ddc-4755-98c0-6d87756ad8fb",
   "metadata": {},
   "source": [
    "DATA INGESTION\n",
    "-Downloading data from github repos and store all files into repository data"
   ]
  },
  {
   "cell_type": "code",
   "execution_count": 1,
   "id": "5123304c-8f9e-42f0-b9e8-f4e290ad80ac",
   "metadata": {},
   "outputs": [
    {
     "name": "stdout",
     "output_type": "stream",
     "text": [
      "{'title': 'Blockchain Test', 'tags': ['web3', 'smart-contract']}\n",
      "This is the content\n"
     ]
    }
   ],
   "source": [
    "import frontmatter\n",
    "\n",
    "sample = \"\"\"---\n",
    "title: Blockchain Test\n",
    "tags: [web3, smart-contract]\n",
    "---\n",
    "This is the content\n",
    "\"\"\"\n",
    "\n",
    "post = frontmatter.loads(sample)\n",
    "print(post.metadata)\n",
    "print(post.content)\n"
   ]
  },
  {
   "cell_type": "code",
   "execution_count": 2,
   "id": "47d33242-fad9-425d-a8cb-9d048abdeaab",
   "metadata": {},
   "outputs": [],
   "source": [
    "import io\n",
    "import zipfile\n",
    "import requests\n",
    "import frontmatter"
   ]
  },
  {
   "cell_type": "code",
   "execution_count": 3,
   "id": "628ece92-c73b-434c-b388-f0d90e6d5aaf",
   "metadata": {},
   "outputs": [],
   "source": [
    "url = 'https://codeload.github.com/Bloceducare/Web3bridge-Web3-Cohort-XIII/zip/refs/heads/main'\n",
    "resp = requests.get(url)"
   ]
  },
  {
   "cell_type": "code",
   "execution_count": 4,
   "id": "de5e3ec8-d19b-4a63-a730-45ef84221eb3",
   "metadata": {},
   "outputs": [],
   "source": [
    "def read_repo_data(repo_owner, repo_name):\n",
    "    \"\"\"\n",
    "    Download and parse all markdown files from a GitHub repository.\n",
    "    \n",
    "    Args:\n",
    "        repo_owner: GitHub username or organization\n",
    "        repo_name: Repository name\n",
    "    \n",
    "    Returns:\n",
    "        List of dictionaries containing file content and metadata\n",
    "    \"\"\"\n",
    "    prefix = 'https://codeload.github.com' \n",
    "    url = f'{prefix}/{repo_owner}/{repo_name}/zip/refs/heads/main'\n",
    "    resp = requests.get(url)\n",
    "    \n",
    "    if resp.status_code != 200:\n",
    "        raise Exception(f\"Failed to download repository: {resp.status_code}\")\n",
    "\n",
    "    repository_data = []\n",
    "    zf = zipfile.ZipFile(io.BytesIO(resp.content))\n",
    "    \n",
    "    for file_info in zf.infolist():\n",
    "        filename = file_info.filename\n",
    "        filename_lower = filename.lower()\n",
    "\n",
    "        if not (filename_lower.endswith('.md') \n",
    "            or filename_lower.endswith('.mdx')):\n",
    "            continue\n",
    "    \n",
    "        try:\n",
    "            with zf.open(file_info) as f_in:\n",
    "                content = f_in.read().decode('utf-8', errors='ignore')\n",
    "                post = frontmatter.loads(content)\n",
    "                data = post.to_dict()\n",
    "                data['filename'] = filename\n",
    "                repository_data.append(data)\n",
    "        except Exception as e:\n",
    "            print(f\"Error processing {filename}: {e}\")\n",
    "            continue\n",
    "    \n",
    "    zf.close()\n",
    "    return repository_data"
   ]
  },
  {
   "cell_type": "code",
   "execution_count": 5,
   "id": "1e0791f6-fc28-4217-a266-f76a9a4807d3",
   "metadata": {},
   "outputs": [
    {
     "name": "stdout",
     "output_type": "stream",
     "text": [
      "Documents found: 254\n"
     ]
    }
   ],
   "source": [
    "web3_docs = read_repo_data('Bloceducare', 'Web3bridge-Web3-Cohort-XIII')\n",
    "\n",
    "print(f\"Documents found: {len(web3_docs)}\")"
   ]
  },
  {
   "cell_type": "code",
   "execution_count": 6,
   "id": "8763b841-eec1-468f-858e-a6249daa7534",
   "metadata": {},
   "outputs": [
    {
     "name": "stdout",
     "output_type": "stream",
     "text": [
      "{'content': '# Web3bridge Web3 Cohort XIII - GitHub Contribution Guide\\n\\nWelcome to the Web3Bridge Cohort XIII training program! This repository is used for submitting tasks, tracking student progress, and grading assessments. Follow this guide to ensure a smooth contribution process.\\n\\n--- \\n\\n## For Students: Submitting Your Tasks\\n\\n### 1. Fork the Repository\\n\\nCreate a personal copy of this repository on your GitHub account.\\n\\n- Visit the repository page: [Web3bridge-Web3-Cohort-XIII](https://github.com/Bloceducare/Web3bridge-Web3-Cohort-XIII)\\n- Click the \"Fork\" button at the top right of the page.\\n\\n### 2. Clone Your Forked Repository\\n\\nDownload your forked repository to your local machine:\\n\\n```bash\\ngit clone https://github.com/<your_username>/Web3bridge-Web3-Cohort-XIII\\ncd Web3bridge-Web3-Cohort-XIII\\n```\\n\\n### 3. Sync Your Repository Regularly\\n\\nKeep your fork updated with the latest changes from the main repository:\\n\\n```bash\\ngit remote add upstream https://github.com/Bloceducare/Web3bridge-Web3-Cohort-XIII\\ngit pull upstream master\\ngit push origin master\\n```\\n\\n### 4. Navigate to the Correct Submission Folder\\n\\nTasks are categorized by week and day. Navigate to the appropriate folder:\\n\\n```bash\\ncd submissions/week-<week_number>/day-<day_number>\\n```\\n\\nExample:\\n\\n```bash\\ncd submissions/week-1/day-1\\n```\\n\\n### 5. Create Your Personal Folder\\n\\nEach student should create a folder using their registered name and project name:\\n\\n```bash\\nmkdir <your_name>-<project_name>\\n```\\n\\nExample:\\n\\n```bash\\nmkdir JohnDoe-Merkle-Tree\\n```\\n\\n### 6. Add Your Task Files\\n\\nPlace your task files inside your folder. Ensure proper documentation and organization.\\n\\n### 7. Commit and Push Your Changes\\n\\nSave your changes and push them to your forked repository:\\n\\n```bash\\ngit add .\\ngit commit -m \"Add Week <week_number> Day <day_number> task for <your_name> <project_name>\"\\ngit push origin main\\n```\\n\\nExample:\\n\\n```bash\\ngit add .\\ngit commit -m \"Add Week 1 Day 1 task for JohnDoe Merkle Tree\"\\ngit push origin main\\n```\\n\\n### 8. Create a Pull Request\\n\\n- Go to the original GitHub repository in your browser: [Web3bridge-Web3-Cohort-XIII](https://github.com/Bloceducare/Web3bridge-Web3-Cohort-XIII).\\n- Click on the Pull Requests tab.\\n- Click New Pull Request and select \"Compare across forks\" if needed.\\n- Select your forked repository and branch as the source, and the master branch of the original repository as the destination.\\n- Provide a descriptive title and include details about your project in the description.\\n\\nExample PR Title:\\n\\n```bash\\nAdd Week 1 Day 1 task for JohnDoe Merkle Tree\\n```\\n\\n### 9. Wait for Review\\n\\nMentors may leave comments or request changes. Make updates accordingly and push again.\\n\\n---\\n\\n## Additional Notes\\n\\n- Ensure your project is complete, well-documented, and functional before submitting.\\n- Follow the repository\\'s coding and folder structure guidelines.\\n- Create a new folder each week and place all files and assets related to that week\\'s project in the folder.\\n- PRs should have meaningful descriptions.\\n- Regularly sync the repository to get the latest updates.\\n- If you encounter any issues, contact your training facilitator for help.\\n\\n## For Mentors: Managing Tasks\\n\\n### 1. Adding Tasks\\n\\n- Navigate to the **tasks/week-<week_number>/** folder.\\n- Create a markdown file named `Day-<day_number>-task.md`.\\n- Provide clear instructions and expectations.\\n- Commit and push your changes.\\n\\nExample:\\n\\n```bash\\ngit add tasks/week-1/Day-1-task.md\\ngit commit -m \"Add Week 1 Day 1 Merkle Tree Task\"\\ngit push origin main\\n```\\n\\n### 2. Preparing the Submission Folder\\n\\n- Navigate to the **submissions/week-<week_number>/** folder.\\n- If a task is given for a specific day, create a corresponding **day subfolder** (`day-<day_number>/`).\\n- Example:\\n  submissions/week-3/day-2/\\n\\n- Students will submit inside this subfolder using their **Registered Name** and **Project Name** as their personal directory.\\n- Example:\\n  submissions/week-3/day-2/JohnDoe-Merkle-Tree/\\n\\n### 3. Reviewing Student Submissions\\n\\n- Check the Pull Requests (PRs) tab on GitHub.\\n- Open a PR and review the student’s work.\\n- Leave comments for corrections if needed.\\n- Approve the PR if it meets expectations.\\n- Merge the PR after approval.\\n\\nThank you for contributing to Web3Bridge Cohort XIII! Happy coding!', 'filename': 'Web3bridge-Web3-Cohort-XIII-main/README.md'}\n"
     ]
    }
   ],
   "source": [
    "print(web3_docs[0])"
   ]
  },
  {
   "cell_type": "markdown",
   "id": "ce3f3972-8812-40f7-a27a-aa10ce7fe68a",
   "metadata": {},
   "source": [
    "CHUNKING AND INTELLIGENT PROCESSING FOR DATA"
   ]
  },
  {
   "cell_type": "code",
   "execution_count": 7,
   "id": "e99e6e70-8a1b-469d-9d8f-3ccdf72c761e",
   "metadata": {},
   "outputs": [],
   "source": [
    "#apply simple chunking using sliding window method\n",
    "def sliding_window(seq, size, step):\n",
    "    if size <= 0 or step <= 0:\n",
    "        raise ValueError(\"size and step must be positive\")\n",
    "\n",
    "    n = len(seq)\n",
    "    result = []\n",
    "    for i in range(0, n, step):\n",
    "        chunk = seq[i:i+size]\n",
    "        result.append({'start': i, 'chunk': chunk})\n",
    "        if i + size >= n:\n",
    "            break\n",
    "\n",
    "    return result\n"
   ]
  },
  {
   "cell_type": "code",
   "execution_count": 8,
   "id": "db6ba239-c24f-4e5d-92b6-ef08fa3d2339",
   "metadata": {},
   "outputs": [
    {
     "name": "stdout",
     "output_type": "stream",
     "text": [
      "Number of chunks created: 4\n",
      "First chunk preview:\n",
      " # Web3bridge Web3 Cohort XIII - GitHub Contribution Guide\n",
      "\n",
      "Welcome to the Web3Bridge Cohort XIII training program! This repository is used for submitting tasks, tracking student progress, and grading assessments. Follow this guide to ensure a smooth contribution process.\n",
      "\n",
      "--- \n",
      "\n",
      "## For Students: Submitting Your Tasks\n",
      "\n",
      "### 1. Fork the Repository\n",
      "\n",
      "Create a personal copy of this repository on your GitHub account.\n",
      "\n",
      "- Visit the repository page: [Web3bridge-Web3-Cohort-XIII](https://github.com/Bloceduc\n"
     ]
    }
   ],
   "source": [
    "doc = web3_docs[0]\n",
    "\n",
    "# Then pass its 'content' to sliding_window\n",
    "chunks = sliding_window(doc[\"content\"], size=2000, step=1000)\n",
    "\n",
    "# Preview results\n",
    "print(\"Number of chunks created:\", len(chunks))\n",
    "print(\"First chunk preview:\\n\", chunks[0][\"chunk\"][:500])"
   ]
  },
  {
   "cell_type": "code",
   "execution_count": 9,
   "id": "5a156063-b6c1-474c-af6a-deb90aaa41bd",
   "metadata": {},
   "outputs": [
    {
     "name": "stdout",
     "output_type": "stream",
     "text": [
      "Total chunks created: 400\n"
     ]
    }
   ],
   "source": [
    "web3_chunks = []\n",
    "\n",
    "for doc in web3_docs:\n",
    "    doc_copy = doc.copy()\n",
    "    doc_content = doc_copy.pop('content')  # remove big text to keep metadata\n",
    "    chunks = sliding_window(doc_content, 2000, 1000)\n",
    "    for chunk in chunks:\n",
    "        chunk.update(doc_copy) \n",
    "    web3_chunks.extend(chunks)\n",
    "\n",
    "print(\"Total chunks created:\", len(web3_chunks))"
   ]
  },
  {
   "cell_type": "code",
   "execution_count": 10,
   "id": "e17ff396-c937-4035-b280-d05a3102eae4",
   "metadata": {},
   "outputs": [
    {
     "name": "stdout",
     "output_type": "stream",
     "text": [
      "Document 0 has 50 paragraphs\n",
      "First paragraph: # Web3bridge Web3 Cohort XIII - GitHub Contribution Guide...\n"
     ]
    }
   ],
   "source": [
    "#splitting by paragraphs\n",
    "import re\n",
    "\n",
    "if len(web3_docs) > 0:\n",
    "    text = web3_docs[0]['content']\n",
    "    paragraphs = re.split(r\"\\n\\s*\\n\", text.strip())\n",
    "    print(f\"Document 0 has {len(paragraphs)} paragraphs\")\n",
    "    print(f\"First paragraph: {paragraphs[0][:200]}...\")\n",
    "else:\n",
    "    print(\"Document 0 not available\")"
   ]
  },
  {
   "cell_type": "code",
   "execution_count": 11,
   "id": "e67f9cc5-f694-43d5-aa84-e46d04ecc608",
   "metadata": {},
   "outputs": [],
   "source": [
    "#splitting by headers\n",
    "import re\n",
    "\n",
    "def split_markdown_by_level(text, level=2):\n",
    "    \"\"\"\n",
    "    Split markdown text by a specific header level.\n",
    "    \n",
    "    :param text: Markdown text as a string\n",
    "    :param level: Header level to split on\n",
    "    :return: List of sections as strings\n",
    "    \"\"\"\n",
    "    header_pattern = r'^(#{' + str(level) + r'} )(.+)$'\n",
    "    pattern = re.compile(header_pattern, re.MULTILINE)\n",
    "\n",
    "    parts = pattern.split(text)\n",
    "    \n",
    "    sections = []\n",
    "    for i in range(1, len(parts), 3):\n",
    "        header = parts[i] + parts[i+1]  # \"## \" + \"Title\"\n",
    "        header = header.strip()\n",
    "\n",
    "        content = \"\"\n",
    "        if i+2 < len(parts):\n",
    "            content = parts[i+2].strip()\n",
    "\n",
    "        if content:\n",
    "            section = f'{header}\\n\\n{content}'\n",
    "        else:\n",
    "            section = header\n",
    "        sections.append(section)\n",
    "    \n",
    "    return sections\n"
   ]
  },
  {
   "cell_type": "code",
   "execution_count": 12,
   "id": "be50e267-b5b2-4f8c-9a9c-ca60b3afceee",
   "metadata": {},
   "outputs": [
    {
     "name": "stdout",
     "output_type": "stream",
     "text": [
      "Total sections created: 337\n",
      "Preview first section:\n",
      " ## For Students: Submitting Your Tasks\n",
      "\n",
      "### 1. Fork the Repository\n",
      "\n",
      "Create a personal copy of this repository on your GitHub account.\n",
      "\n",
      "- Visit the repository page: [Web3bridge-Web3-Cohort-XIII](https://github.com/Bloceducare/Web3bridge-Web3-Cohort-XIII)\n",
      "- Click the \"Fork\" button at the top right of the page.\n",
      "\n",
      "### 2. Clone Your Forked Repository\n",
      "\n",
      "Download your forked repository to your local machine:\n",
      "\n",
      "```bash\n",
      "git clone https://github.com/<your_username>/Web3bridge-Web3-Cohort-XIII\n",
      "cd Web3bridge-W\n"
     ]
    }
   ],
   "source": [
    "web3_chunk = []\n",
    "\n",
    "for doc in web3_docs:\n",
    "    doc_copy = doc.copy()\n",
    "    doc_content = doc_copy.pop('content')  # remove content for section splitting\n",
    "    sections = split_markdown_by_level(doc_content, level=2)  # split by ## headers\n",
    "    for section in sections:\n",
    "        section_doc = doc_copy.copy()\n",
    "        section_doc['section'] = section\n",
    "        web3_chunk.append(section_doc)\n",
    "\n",
    "print(\"Total sections created:\", len(web3_chunk))\n",
    "print(\"Preview first section:\\n\", web3_chunk[0]['section'][:500])\n"
   ]
  },
  {
   "cell_type": "code",
   "execution_count": 13,
   "id": "960c4a4a-a28d-4caa-8898-d05770fb0c99",
   "metadata": {},
   "outputs": [
    {
     "name": "stdout",
     "output_type": "stream",
     "text": [
      "dict_keys(['content', 'filename'])\n",
      "dict_keys(['start', 'chunk', 'filename'])\n"
     ]
    }
   ],
   "source": [
    "print(web3_docs[0].keys())\n",
    "print(web3_chunks[0].keys())"
   ]
  },
  {
   "cell_type": "markdown",
   "id": "8b7ff9ae-7a46-420d-8c75-2eec017f0e97",
   "metadata": {},
   "source": [
    "ADD SEARCH"
   ]
  },
  {
   "cell_type": "code",
   "execution_count": 14,
   "id": "e5fd18ef-7ad8-4d8e-8b82-0269dc43bd12",
   "metadata": {},
   "outputs": [
    {
     "name": "stdout",
     "output_type": "stream",
     "text": [
      "[{'filename': 'Web3bridge-Web3-Cohort-XIII-main/online-program/submissions/week-3/day-5/Ifeoluwa-Sanni/Inheritance-in-Solidity.md', 'section': '## Multiple Inheritance\\n\\nUnlike some programming languages like Java, Solidity allows for multiple inheritance. Multiple inheritance refers to the ability of a derived contract to inherit data and methods from more than one parent contract. In other words, one child contract can have multiple parents.\\n\\n```solidity\\ncontract A { /* ... */ }\\ncontract B { /* ... */ }\\ncontract C is A, B {\\n    // Contract C inherits from both A and B\\n}\\n```'}, {'filename': 'Web3bridge-Web3-Cohort-XIII-main/online-program/submissions/week-3/day-5/Ifeoluwa-Sanni/Inheritance-in-Solidity.md', 'section': '## Basic Inheritance Syntax\\n\\nYou can spot a child contract and identify its parent contract by looking for the `is` keyword.\\n\\n```solidity\\ncontract A {\\n    string constant A_NAME = \"A\";\\n    \\n    function getName() public view returns (string memory) {\\n        return A_NAME;\\n    }\\n}\\n\\ncontract B is A {\\n    string constant B_NAME = \"B\";\\n    // Contract B now has access to A_NAME and getName() from Contract A\\n}\\n```'}, {'filename': 'Web3bridge-Web3-Cohort-XIII-main/online-program/submissions/week-3/day-5/Ifeoluwa-Sanni/Inheritance-in-Solidity.md', 'section': '## Key Terminology\\n\\n- **Derived Contract / Child Contract / Subclass**: The contract that receives this inherited material\\n- **Parent Contract**: The contract whose material is made available to one or more derived contracts'}, {'filename': 'Web3bridge-Web3-Cohort-XIII-main/online-program/submissions/week-3/day-5/Ifeoluwa-Sanni/Inheritance-in-Solidity.md', 'section': '## What is Inheritance?\\n\\nInheritance is a powerful concept in Object Oriented Programming (OOP). The best way to reason about inheritance in programming is to think of it as a way by which pieces of code \"inherit\" data and functions from other pieces of code by importing and embedding them.\\n\\nInheritance in Solidity also allows a developer to access, use and modify the properties (data) and functions (behaviour) of contracts that are inherited from.'}, {'filename': 'Web3bridge-Web3-Cohort-XIII-main/online-program/submissions/week-3/day-5/Ifeoluwa-Sanni/Inheritance-in-Solidity.md', 'section': '## Constructor Inheritance\\n\\nWhen parent contracts have constructors with parameters, child contracts must provide those arguments. There are two methods:\\n\\n### Method 1: Pass arguments in inheritance declaration\\n```solidity\\ncontract Parent {\\n    constructor(string memory _name) {\\n        // Constructor logic\\n    }\\n}\\n\\ncontract Child is Parent(\"ChildName\") {\\n    // Child constructor\\n}\\n```\\n\\n### Method 2: Pass arguments in child constructor\\n```solidity\\ncontract Child is Parent {\\n    constructor(string memory _childName) Parent(_childName) {\\n        // Child constructor logic\\n    }\\n}\\n```'}, {'filename': 'Web3bridge-Web3-Cohort-XIII-main/online-program/submissions/week-3/day-5/Ifeoluwa-Sanni/Inheritance-in-Solidity.md', 'section': '## Inheritance Hierarchy\\n\\nWhich version of a function will be called if a function by the same name and signature exists in a chain of inheritance? The answer is the last one – the \"most derived\" implementation in the contract hierarchy.\\n\\nFor inheritance chain A → B → C → D → E, if all contracts have the same function, the implementation in contract E will be called.'}, {'filename': 'Web3bridge-Web3-Cohort-XIII-main/online-program/submissions/week-3/day-5/Ifeoluwa-Sanni/Inheritance-in-Solidity.md', 'section': '## State Variables and Inheritance\\n\\n### Variable Shadowing Restrictions\\n\\nState variables in child contracts cannot have the same name and type as their parent contracts. This would cause a \"shadowing\" error.\\n\\n```solidity\\ncontract A {\\n    string author = \"Zubin\";\\n}\\n\\ncontract B is A {\\n    // This will cause a compiler error (shadowing)\\n    // string author = \"Someone else\";\\n}\\n\\ncontract C is A {\\n    // This is correct - different name\\n    string bookAuthor = \"Hemingway\";\\n    \\n    constructor() {\\n        author = \"Hemingway\"; // Overriding the value\\n    }\\n}\\n```'}, {'filename': 'Web3bridge-Web3-Cohort-XIII-main/online-program/submissions/week-3/day-5/Ifeoluwa-Sanni/Inheritance-in-Solidity.md', 'section': '## Function Overriding\\n\\n### Virtual and Override Keywords\\n\\nTo modify inherited functions, Solidity uses two important keywords:\\n\\n- **`virtual`**: This modifier allows the function to be \"overridden\" in a child contract that inherits from it. In other words, a function with the keyword virtual can be \"rewritten\" with different internal logic in another contract that inherits from this one.\\n\\n- **`override`**: This is the flip side to the virtual modifier. When a child contract \"rewrites\" a function that was declared in a base contract (parent contract) from which it inherits, it marks that rewritten function with override to signal that its implementation overrides the one given in the parent contract.\\n\\n```solidity\\ncontract A {\\n    function getName() public virtual returns (string memory) {\\n        return \"A\";\\n    }\\n}\\n\\ncontract B is A {\\n    function getName() public pure override returns (string memory) {\\n        return \"B\";\\n    }\\n}\\n```\\n\\n### Function Overloading vs Overriding\\n\\nWhen functions have identical names but different arguments, it\\'s not an override, but an overload. And there is no conflict because the methods have different arguments, and so there is enough information in their signatures to show the compiler that they\\'re different.\\n\\n```solidity\\ncontract B is A {\\n    // This is overloading, not overriding (different signature)\\n    function getName(string memory prefix) public pure returns (string memory) {\\n        return string(abi.encodePacked(prefix, \"B\"));\\n    }\\n}\\n```'}, {'filename': 'Web3bridge-Web3-Cohort-XIII-main/online-program/submissions/week-3/day-5/Ifeoluwa-Sanni/Inheritance-in-Solidity.md', 'section': '## Modifier Inheritance\\n\\nModifiers are also inheritable.\\n\\n```solidity\\ncontract A {\\n    address owner;\\n    \\n    modifier onlyOwner() {\\n        require(msg.sender == owner, \"Not the owner\");\\n        _;\\n    }\\n}\\n\\ncontract B is A {\\n    function restrictedFunction() public onlyOwner {\\n        // This function can use the inherited modifier\\n    }\\n}\\n```'}, {'filename': 'Web3bridge-Web3-Cohort-XIII-main/online-program/submissions/week-3/day-5/Ifeoluwa-Sanni/Inheritance-in-Solidity.md', 'section': '## Contract Compilation and Deployment\\n\\nWhen a contract inherits from one or more parent contract, only one single (combined) contract is created on the blockchain. The compiler effectively compiles all the other contracts and their parent contracts and so on up the entire hierarchy all into a single compiled contract (which is referred to as a \"flattened\" contract).'}]\n"
     ]
    }
   ],
   "source": [
    "#Text search\n",
    "from minsearch import Index\n",
    "\n",
    "index = Index(\n",
    "    text_fields=[\"start\", \"chunk\", \"filename\"],\n",
    "    keyword_fields=[]\n",
    ")\n",
    "\n",
    "index.fit(web3_chunk)\n",
    "\n",
    "query = \"What are the stages in the pre-qualification phase?\"\n",
    "results = index.search(query)\n",
    "print(results)"
   ]
  },
  {
   "cell_type": "code",
   "execution_count": 15,
   "id": "60a560d0-2f4c-4dda-aed3-104442d9d112",
   "metadata": {},
   "outputs": [
    {
     "data": {
      "text/plain": [
       "<minsearch.vector.VectorSearch at 0x1c2aff759d0>"
      ]
     },
     "execution_count": 15,
     "metadata": {},
     "output_type": "execute_result"
    }
   ],
   "source": [
    "#Vector search\n",
    "from sentence_transformers import SentenceTransformer\n",
    "from minsearch import VectorSearch\n",
    "import numpy as np\n",
    "\n",
    "embedding_model = SentenceTransformer(\"multi-qa-distilbert-cos-v1\")\n",
    "\n",
    "web3_embeddings = []\n",
    "for d in web3_chunks:\n",
    "    text = d[\"chunk\"]   \n",
    "    v = embedding_model.encode(text)\n",
    "    web3_embeddings.append(v)\n",
    "\n",
    "web3_embeddings = np.array(web3_embeddings)\n",
    "\n",
    "web3_vindex = VectorSearch()\n",
    "web3_vindex.fit(web3_embeddings, web3_chunks)\n",
    "\n"
   ]
  },
  {
   "cell_type": "code",
   "execution_count": 16,
   "id": "4dc35cd6-7c23-4a0d-8bbb-498fa95f26bd",
   "metadata": {},
   "outputs": [
    {
     "name": "stdout",
     "output_type": "stream",
     "text": [
      "[{'start': 0, 'chunk': '## Practice writing smart contract\\n\\nJust a simple practice project, enjoy!\\n\\n### Objectives\\n\\n- Write a multi signature smart contract\\n- Ensure you cannot make transfer until at least 3 of the users agree\\n- test with hardhat\\n- Make it a factory.\\n- Enjoy 😂\\n\\n### Submission Deadline\\n\\n**Friday: 5am**', 'filename': 'Web3bridge-Web3-Cohort-XIII-main/onsite-program/tasks/week-5/day-4.md'}, {'start': 0, 'chunk': \"# 📚 Solidity Handbook - Class Discussion Guide\\n\\n> A comprehensive guide to learning Solidity for smart contract development on Ethereum\\n\\n## 🎯 Overview\\n\\nThis handbook covers **Solidity** - the main programming language for writing smart contracts on Ethereum and other EVM-compatible blockchains. It's designed following the **80/20 principle** - covering 20% of concepts that handle 80% of real-world needs.\\n\\n## 🎓 Key Learning Objectives\\n\\nBy the end of this guide, you should understand:\\n\\n- ✅ What Solidity is and how it works\\n- ✅ How to write basic smart contracts\\n- ✅ Core programming concepts in Solidity\\n- ✅ How smart contracts interact with each other\\n- ✅ Security considerations and best practices\\n\\n---\\n\\n## 🏗️ Part 1: Foundations\\n\\n### What is Solidity?\\n\\n- **Object-oriented programming language** influenced by C++, JavaScript, and Python\\n- **Compiled language** - converts human-readable code to bytecode for the Ethereum Virtual Machine (EVM)\\n- **Statically typed** - you must declare data types for all variables\\n- **Used for smart contracts** - programs that run on blockchains\\n\\n### 🔥 Your First Smart Contract\\n\\n```solidity\\n// SPDX-License-Identifier: MIT\\npragma solidity ^0.8.17;\\n\\ncontract HotFudgeSauce {\\n    uint public qtyCups = 0;\\n\\n    function increment() public {\\n        qtyCups += 1;\\n    }\\n\\n    function decrement() public {\\n        qtyCups -= 1;\\n    }\\n\\n    function get() public view returns (uint) {\\n        return qtyCups;\\n    }\\n}\\n```\\n\\n### 🔑 Key Concepts from This Example:\\n\\n1. **License identifier** - specifies code licensing\\n2. **Pragma directive** - tells compiler which version to use\\n3. **Contract keyword** - like a class in OOP\\n4. **State variables** - data stored permanently on blockchain\\n5. **Functions** - executable code units\\n6. **Visibility specifiers** - control access (public, private, etc.)\\n\\n---\\n\\n## 📊 Part 2: Variables and Data Types\\n\\n### 🎯 Variable Scopes\\n\\n1. **State Variables** - stored permanently on blockchain\\n2. **Local Variables** - temporary, exist \", 'filename': 'Web3bridge-Web3-Cohort-XIII-main/online-program/submissions/week-3/day-4/Stanley-Omeje/README.md'}, {'start': 0, 'chunk': '# Token standard \\n\\n### Objective\\n- Study the `ERC20` token standard.\\n- Ensure you know it like the back of your hands.\\n- Write and deploy and verify the smart contract for the `ERC20` Token\\n\\n- Enjoy your Movies :(\\n\\n### Submission Deadline \\n- **8am on Monday**.', 'filename': 'Web3bridge-Web3-Cohort-XIII-main/onsite-program/tasks/week-4/day-6-task.md'}]\n"
     ]
    }
   ],
   "source": [
    "query = \"How to write my first smart contract\"\n",
    "q = embedding_model.encode(query)\n",
    "results = web3_vindex.search(q)\n",
    "\n",
    "print(results[:3])"
   ]
  },
  {
   "cell_type": "code",
   "execution_count": 17,
   "id": "3b1b9eb5-ebb0-4f6d-89f6-2d7dcc3be7e8",
   "metadata": {},
   "outputs": [],
   "source": [
    "#hybrid search\n",
    "def text_search(query):\n",
    "    return index.search(query, num_results=5)\n",
    "\n",
    "def vector_search(query):\n",
    "    q = embedding_model.encode(query)\n",
    "    return web3_vindex.search(q, num_results=5)\n",
    "\n",
    "def hybrid_search(query):\n",
    "    text_results = text_search(query)\n",
    "    vector_results = vector_search(query)\n",
    "\n",
    "    seen_ids = set()\n",
    "    combined_results = []\n",
    "\n",
    "    for result in text_results + vector_results:\n",
    "        if result['filename'] not in seen_ids:\n",
    "            seen_ids.add(result['filename'])\n",
    "            combined_results.append(result)\n",
    "    \n",
    "    return combined_results\n"
   ]
  },
  {
   "cell_type": "code",
   "execution_count": 18,
   "id": "49080c88-320e-4dd8-a47c-fe929d6488a7",
   "metadata": {},
   "outputs": [
    {
     "name": "stdout",
     "output_type": "stream",
     "text": [
      "[{'filename': 'Web3bridge-Web3-Cohort-XIII-main/onsite-program/tasks/week-5/day-5.md', 'section': '## F\\n\\n### Objective'}, {'filename': 'Web3bridge-Web3-Cohort-XIII-main/onsite-program/tasks/week-5/day-4.md', 'section': '## Practice writing smart contract\\n\\nJust a simple practice project, enjoy!\\n\\n### Objectives\\n\\n- Write a multi signature smart contract\\n- Ensure you cannot make transfer until at least 3 of the users agree\\n- test with hardhat\\n- Make it a factory.\\n- Enjoy 😂\\n\\n### Submission Deadline\\n\\n**Friday: 5am**'}, {'filename': 'Web3bridge-Web3-Cohort-XIII-main/onsite-program/submissions/week-3/day-3/README.md', 'section': '## 🔑 3. Internal\\n\\n- *Functions & Variables:* Accessible within the contract and from derived (child) contracts. Not accessible externally.\\n\\n*Example:*\\nsolidity\\nuint internal data;\\n\\nfunction updateData(uint _val) internal {\\n    data = _val;\\n}\\n```\\n\\n---'}]\n"
     ]
    }
   ],
   "source": [
    "query = \"What tools are required for the program?\"\n",
    "results = hybrid_search(query)\n",
    "\n",
    "print(results[:3])"
   ]
  },
  {
   "cell_type": "markdown",
   "id": "f799e50a-deaf-4de2-83ed-902aecf649fc",
   "metadata": {},
   "source": [
    "AGENT AND TOOLS"
   ]
  },
  {
   "cell_type": "code",
   "execution_count": 19,
   "id": "01ab451f-c982-440b-a576-0677c31fcef0",
   "metadata": {},
   "outputs": [],
   "source": [
    "#define hybrid search\n",
    "from typing import List, Any\n",
    "\n",
    "def hybrid_search_tool(query: str) -> List[Any]:\n",
    "    \"\"\"\n",
    "    Perform a hybrid search combining text-based and vector-based search.\n",
    "\n",
    "    Args:\n",
    "        query (str): The search query string.\n",
    "\n",
    "    Returns:\n",
    "        List[Any]: A list of up to 5–10 combined and deduplicated search results\n",
    "                   from both text and vector searches.\n",
    "    \"\"\"\n",
    "    return hybrid_search(query)\n"
   ]
  },
  {
   "cell_type": "code",
   "execution_count": 20,
   "id": "bd37f27b-69c9-4189-aff5-a9c4ee772439",
   "metadata": {},
   "outputs": [],
   "source": [
    "#system prompt\n",
    "system_prompt = \"\"\"\n",
    "You are a helpful assistant trained on the Web3Bridge Cohort XIII repository.\n",
    "\n",
    "Use the hybrid search tool to find the most relevant information before answering.\n",
    "\n",
    "Always search before answering. \n",
    "If the search returns results, summarize them clearly and cite the filename where the answer came from.\n",
    "If nothing relevant is found, politely say you couldn't find it in the repository.\n",
    "\n",
    "Never make up information not found in the repo.\n",
    "\"\"\""
   ]
  },
  {
   "cell_type": "code",
   "execution_count": 21,
   "id": "d0ed8b5d-d96d-41da-b043-8c2cac313959",
   "metadata": {},
   "outputs": [
    {
     "name": "stdout",
     "output_type": "stream",
     "text": [
      "Groq key loaded successfully!\n"
     ]
    }
   ],
   "source": [
    "from dotenv import load_dotenv\n",
    "import os\n",
    "\n",
    "load_dotenv() \n",
    "\n",
    "groq_api_key = os.getenv(\"GROQ_API_KEY\")\n",
    "\n",
    "print(\"Groq key loaded successfully!\" if groq_api_key else \"Key not found.\")"
   ]
  },
  {
   "cell_type": "code",
   "execution_count": 22,
   "id": "c8f28093-8ebf-4038-8eb4-f28a83b7cd16",
   "metadata": {},
   "outputs": [],
   "source": [
    "#creating agent\n",
    "from pydantic_ai import Agent\n",
    "\n",
    "agent = Agent(\n",
    "    name=\"web3bridge_agent\",\n",
    "    system_prompt=system_prompt,\n",
    "    tools=[hybrid_search_tool], \n",
    "    model=\"groq:llama-3.1-8b-instant\"\n",
    ")"
   ]
  },
  {
   "cell_type": "code",
   "execution_count": 23,
   "id": "05c030e3-26f5-4775-8185-e8f3f08b2907",
   "metadata": {},
   "outputs": [
    {
     "name": "stdout",
     "output_type": "stream",
     "text": [
      "Based on the search results, the tools required for the program are not explicitly stated. However, the search results suggest that the program is likely a smart contract written in Solidity, which is used for programming smart contracts on the Ethereum blockchain.\n",
      "\n",
      "To build and deploy a smart contract, you would need a few tools:\n",
      "\n",
      "1. Solidity: The programming language used for writing smart contracts on the Ethereum blockchain.\n",
      "2. Truffle Suite: A set of tools used for developing, testing, and deploying smart contracts, including Truffle, Ganache, and Drizzle.\n",
      "3. Hardhat: A development environment for building, testing, and deploying smart contracts.\n",
      "4. Foundry: A smart contract development framework for Ethereum.\n",
      "5. Remix: An online IDE for writing, testing, and deploying smart contracts.\n",
      "6. Web3.js or Ethers.js: JavaScript libraries used for interacting with the Ethereum blockchain.\n",
      "7. A compiler, such as solc, to compile the Solidity code into bytecode.\n",
      "\n",
      "It's worth noting that the specific tools required may vary depending on the project's requirements and the development environment chosen.\n",
      "\n",
      "To further clarify, it's recommended to refer to the project's documentation or to specific sections within the provided files.\n"
     ]
    }
   ],
   "source": [
    "question = \"What tools are required for the program?\"\n",
    "result = await agent.run(user_prompt=question)\n",
    "print(result.data)"
   ]
  },
  {
   "cell_type": "code",
   "execution_count": 24,
   "id": "5b3640d5-a5ce-4028-be30-2c1be536ee4d",
   "metadata": {},
   "outputs": [
    {
     "name": "stdout",
     "output_type": "stream",
     "text": [
      "To write your first smart contract, you should follow these steps:\n",
      "\n",
      "1. Choose a programming language (e.g., Solidity) for your smart contract.\n",
      "2. Understand the basics of the language, including data types, functions, variables, and visibility modifiers.\n",
      "3. Define the purpose and functionality of your smart contract. This might include features like storing and retrieving data, performing calculations, or executing conditional statements.\n",
      "4. Write your smart contract using a compiler or IDE that supports the chosen language.\n",
      "5. Test and debug your smart contract thoroughly to ensure it functions as intended.\n",
      "6. Deploy your smart contract on a blockchain platform, such as Ethereum, and test it again to ensure it works as expected.\n",
      "\n",
      "It's also a good idea to familiarize yourself with the following:\n",
      "\n",
      "- **Solidity Handbook**: A comprehensive guide to learning Solidity for smart contract development on Ethereum.\n",
      "- **Inheritance in Solidity**: Understand how to use inheritance to create a base contract and derive new contracts from it.\n",
      "- **Data Types in Solidity**: Learn about the different data types in Solidity, including value types and reference types.\n",
      "- **Visibility Modifiers**: Understand how to use visibility modifiers to control access to functions and variables in your smart contract.\n",
      "- **Contract Structure**: Learn about the components of a smart contract, including the SPDX License Identifier, Pragma Directive, and Contract Structure.\n",
      "- **Practice writing smart contracts**: Practice writing smart contracts using the knowledge you've acquired.\n",
      "\n",
      "Remember to always follow best practices and security guidelines when writing and deploying smart contracts.\n"
     ]
    }
   ],
   "source": [
    "question = \"How to write my first smart contract?\"\n",
    "result = await agent.run(user_prompt=question)\n",
    "print(result.data)"
   ]
  },
  {
   "cell_type": "code",
   "execution_count": 25,
   "id": "e68049f0-7cdd-485d-837e-5391dfcf1d60",
   "metadata": {},
   "outputs": [
    {
     "name": "stdout",
     "output_type": "stream",
     "text": [
      "The pre-qualification phase stages in the Web3Bridge Cohort XIII repository could not be specifically identified from the search results.\n"
     ]
    }
   ],
   "source": [
    "question = \"What are the stages in the pre-qualification phase?\"\n",
    "result = await agent.run(user_prompt=question)\n",
    "print(result.data)"
   ]
  },
  {
   "cell_type": "markdown",
   "id": "260e995f-359e-48a8-9052-552b7d7311fe",
   "metadata": {},
   "source": [
    "EVALUATION"
   ]
  },
  {
   "cell_type": "code",
   "execution_count": 26,
   "id": "7bae4115-a4a0-4834-94c5-cfea1f0ebc4f",
   "metadata": {},
   "outputs": [],
   "source": [
    "#logging\n",
    "from pydantic_ai.messages import ModelMessagesTypeAdapter\n",
    "\n",
    "\n",
    "def log_entry(agent, messages, source=\"user\"):\n",
    "    if hasattr(agent, \"tools\"):\n",
    "        tools = [t.__name__ if hasattr(t, \"__name__\") else str(t) for t in agent.tools]\n",
    "    elif hasattr(agent, \"_tools\"):\n",
    "        tools = list(agent._tools.keys())\n",
    "    else:\n",
    "        tools = []\n",
    "\n",
    "    dict_messages = ModelMessagesTypeAdapter.dump_python(messages)\n",
    "\n",
    "    return {\n",
    "        \"agent_name\": agent.name,\n",
    "        \"system_prompt\": agent.system_prompt,\n",
    "        \"provider\": agent.model.system,\n",
    "        \"model\": agent.model.model_name,\n",
    "        \"tools\": tools,\n",
    "        \"messages\": dict_messages,\n",
    "        \"source\": source\n",
    "    }"
   ]
  },
  {
   "cell_type": "code",
   "execution_count": 27,
   "id": "3456e399-dbe8-4531-87b4-544e4928f587",
   "metadata": {},
   "outputs": [],
   "source": [
    "import json\n",
    "import secrets\n",
    "from pathlib import Path\n",
    "from datetime import datetime\n",
    "\n",
    "\n",
    "LOG_DIR = Path('logs')\n",
    "LOG_DIR.mkdir(exist_ok=True)\n",
    "\n",
    "\n",
    "def serializer(obj):\n",
    "    from datetime import datetime\n",
    "\n",
    "    if isinstance(obj, datetime):\n",
    "        return obj.isoformat()\n",
    "    # Convert any other non-serializable object to a string\n",
    "    return str(obj)\n",
    "\n",
    "\n",
    "def log_interaction_to_file(agent, messages, source='user'):\n",
    "    entry = log_entry(agent, messages, source)\n",
    "\n",
    "    ts = entry['messages'][-1]['timestamp']\n",
    "    ts_str = ts.strftime(\"%Y%m%d_%H%M%S\")\n",
    "    rand_hex = secrets.token_hex(3)\n",
    "\n",
    "    filename = f\"{agent.name}_{ts_str}_{rand_hex}.json\"\n",
    "    filepath = LOG_DIR / filename\n",
    "\n",
    "    with filepath.open(\"w\", encoding=\"utf-8\") as f_out:\n",
    "        json.dump(entry, f_out, indent=2, default=serializer)\n",
    "\n",
    "    return filepath"
   ]
  },
  {
   "cell_type": "code",
   "execution_count": 45,
   "id": "94cb2cb7-d900-4f17-9589-34b41dba162e",
   "metadata": {},
   "outputs": [
    {
     "name": "stdin",
     "output_type": "stream",
     "text": [
      "Ask the Agent: How to write my first smart contract? \n"
     ]
    },
    {
     "name": "stdout",
     "output_type": "stream",
     "text": [
      "Here's a summary of the week tasks and objectives in the Web3Bridge Cohort XIII program:\n",
      "\n",
      "* Week 5:\n",
      " + Day 4: Practice writing a smart contract with objectives such as writing a multi signature smart contract, ensuring that transfer cannot occur until at least 3 users agree, and testing with hardhat. ([Web3bridge-Web3-Cohort-XIII-main/onsite-program/tasks/week-5/day-4.md](https://github.com/Bloceducare/Web3bridge-Web3-Cohort-XIII/blob/main/onsite-program/tasks/week-5/day-4.md))\n",
      " + Day 5: No specific objectives mentioned in the search results.\n",
      "* Week 6:\n",
      " + Task 4: Test and interact with all functions using hardhat or foundry. ([Web3bridge-Web3-Cohort-XIII-main/onsite-program/tasks/week-6/task-4.md](https://github.com/Bloceducare/Web3bridge-Web3-Cohort-XIII/blob/main/onsite-program/tasks/week-6/task-4.md))\n",
      " + Task 5: Create an SVG NFT that displays the current time using block.timestamp. ([Web3bridge-Web3-Cohort-XIII-main/onsite-program/tasks/week-6/task-5.md](https://github.com/Bloceducare/Web3bridge-Web3-Cohort-XIII/blob/main/onsite-program/tasks/week-6/task-5.md))\n",
      "* General information:\n",
      " + The Web3Bridge Cohort XIII program has a mentor checklist that outlines the tasks and responsibilities for mentors. ([Web3bridge-Web3-Cohort-XIII-main/online-program/mentors/mentor-checklist.md](https://github.com/Bloceducare/Web3bridge-Web3-Cohort-XIII/blob/main/online-program/mentors/mentor-checklist.md))\n",
      " + There is a GitHub contribution guide that provides information on submitting tasks, tracking student progress, and grading assessments. ([Web3bridge-Web3-Cohort-XIII-main/README.md](https://github.com/Bloceducare/Web3bridge-Web3-Cohort-XIII/blob/main/README.md))\n",
      "\n",
      "Please note that the search results only provide snippets of information, and it's recommended to check the original files for more details.\n"
     ]
    },
    {
     "data": {
      "text/plain": [
       "WindowsPath('logs/web3bridge_agent_v2_20251016_192512_552dec.json')"
      ]
     },
     "execution_count": 45,
     "metadata": {},
     "output_type": "execute_result"
    }
   ],
   "source": [
    "question = input(\"Ask the Agent: How to write my first smart contract?\")\n",
    "result = await agent.run(user_prompt=question)\n",
    "print(result.data)\n",
    "log_interaction_to_file(agent, result.new_messages())"
   ]
  },
  {
   "cell_type": "code",
   "execution_count": 29,
   "id": "1a6b1620-2853-4c08-818f-af42bb14199c",
   "metadata": {},
   "outputs": [],
   "source": [
    "#Adding references\n",
    "system_prompt = \"\"\"\n",
    "You are a helpful AI assistant trained on the Web3Bridge Cohort XIII program materials.  \n",
    "\n",
    "Your job is to help learners understand and navigate the course by answering questions about:\n",
    "- Week tasks and objectives  \n",
    "- Smart contract coding assignments  \n",
    "- Required tools, frameworks, and libraries  \n",
    "- Deadlines, submissions, and setup instructions  \n",
    "\n",
    "Use the **hybrid search tool** to find relevant information from the course materials before answering any question.  \n",
    "\n",
    "If you find relevant content:\n",
    "1. Use it to give a clear and concise answer.\n",
    "2. Always include references by citing the **filename** of the source material you used.\n",
    "3. Replace \"Web3bridge-Web3-Cohort-XIII-main\" in the filename with the full GitHub link:  \n",
    "   `https://github.com/YOUR_USERNAME/Web3bridge-Web3-Cohort-XIII-main/blob/main/`\n",
    "4. Format the reference as a clickable markdown link:  \n",
    "   `[LINK TITLE](FULL_GITHUB_LINK)`\n",
    "\n",
    "If no relevant content is found:\n",
    "- Let the user know that nothing specific was found.\n",
    "- Then provide general guidance or best practices related to Web3, Solidity, or smart contract development.\n",
    "\n",
    "Example of reference format:\n",
    "> For more details, check [week-5/day-4.md](https://github.com/YOUR_USERNAME/Web3bridge-Web3-Cohort-XIII-main/blob/main/onsite-program/tasks/week-5/day-4.md)\n",
    "\n",
    "Stay factual, cite your sources, and make your answers easy to understand.\n",
    "\"\"\".strip()"
   ]
  },
  {
   "cell_type": "code",
   "execution_count": 30,
   "id": "c55c2b0c-075f-447c-9b4e-07fe4d54d60f",
   "metadata": {},
   "outputs": [],
   "source": [
    "agent = Agent(\n",
    "    name=\"web3bridge_agent_v2\",\n",
    "    system_prompt=system_prompt,\n",
    "    tools=[hybrid_search_tool],\n",
    "    model=\"groq:llama-3.1-8b-instant\" \n",
    ")"
   ]
  },
  {
   "cell_type": "code",
   "execution_count": 31,
   "id": "602eb7b7-f267-40e7-9b7c-0accaddd6988",
   "metadata": {},
   "outputs": [
    {
     "name": "stdout",
     "output_type": "stream",
     "text": [
      "Based on the search results, it appears that the required tools, frameworks, and libraries for the Web3Bridge Cohort XIII program are not explicitly stated in the provided search results. However, it can be inferred that the program uses GitHub for managing submissions and task assignments.\n",
      "\n",
      "For smart contract development, the program likely utilizes tools such as Hardhat, a popular development environment for Ethereum and other blockchain platforms. Hardhat provides a suite of tools for building, testing, and deploying smart contracts, as well as a set of plugins for tasks such as contract deployment and gas optimization.\n",
      "\n",
      "Additionally, the program may use Solidity, the programming language used for writing smart contracts on the Ethereum blockchain.\n",
      "\n",
      "To confirm the exact tools and frameworks used in the program, I would recommend checking the program's documentation or reaching out to the program administrators for more information.\n",
      "\n",
      "Here are some best practices for smart contract development:\n",
      "\n",
      "1.  **Use a reputable development environment**: Hardhat is a popular choice for Ethereum development, but other environments like Truffle and Remix may also be used.\n",
      "2.  **Write readable and well-documented code**: Use clear and concise comments to explain the purpose and functionality of your code.\n",
      "3.  **Test your contracts thoroughly**: Use hardhat to write tests for your smart contracts and ensure they function correctly.\n",
      "4.  **Optimize gas usage**: Use gas optimization techniques to reduce the cost of deploying and executing your smart contracts.\n",
      "\n",
      "Here are some helpful resources for smart contract development:\n",
      "\n",
      "1.  [Hardhat documentation](https://hardhat.org/docs)\n",
      "2.  [Solidity documentation](https://docs.soliditylang.org/en/latest/)\n",
      "3.  [Truffle documentation](https://www.trufflesuite.com/docs/truffle)\n",
      "\n",
      "Here is a clickable markdown link to the full GitHub link for the Hardhat documentation:\n",
      "\n",
      "> [Hardhat documentation](https://hardhat.org/docs) [LINK](https://hardhat.org/docs)\n"
     ]
    }
   ],
   "source": [
    "question = \"What tools are required for the program?\"\n",
    "result = await agent.run(user_prompt=question)\n",
    "print(result.data)"
   ]
  },
  {
   "cell_type": "code",
   "execution_count": 32,
   "id": "eca4df65-ea6b-4a33-ae6a-912fbd15597f",
   "metadata": {},
   "outputs": [
    {
     "name": "stdout",
     "output_type": "stream",
     "text": [
      "To set up a local blockchain using Hardhat Network, follow these steps:\n",
      "\n",
      "1. Install dependencies: `npm install`\n",
      "2. Compile contracts: `npx hardhat compile`\n",
      "3. Run tests: `npx hardhat test`\n",
      "4. Deploy to Hardhat Network: `npx hardhat node`\n",
      "5. You can then interact with the deployed contract using Hardhat scripts or directly via an explorer.\n",
      "\n",
      "For more detailed instructions, check [jvcbyte-storage/README.md](https://github.com/YOUR_USERNAME/Web3bridge-Web3-Cohort-XIII-main/blob/main/online-program/submissions/week-3/day-2/jvcbyte-storage/README.md). \n",
      "\n",
      "Note: Make sure you set up your environment variables correctly and replace `<CONTRACT_ADDRESS_HERE>` with your actual deployed contract address after deployment. \n",
      "\n",
      "Also, you can check the Hardhat documentation for more information on setting up and using Hardhat Network: [Hardhat Documentation](https://hardhat.org/hardhat-network/).\n"
     ]
    }
   ],
   "source": [
    "question = \"How do I set up a local blockchain using Hardhat Network?\"\n",
    "result = await agent.run(user_prompt=question)\n",
    "print(result.data)"
   ]
  },
  {
   "cell_type": "code",
   "execution_count": 33,
   "id": "9d091a3a-f5e5-43bc-9842-352209b1f4a7",
   "metadata": {},
   "outputs": [],
   "source": [
    "#Evaluation Agent: LLM as Judge\n",
    "evaluation_prompt = \"\"\"\n",
    "Use this checklist to evaluate the quality of an AI agent's answer (<ANSWER>) to a user question (<QUESTION>).\n",
    "We also include the entire log (<LOG>) for analysis.\n",
    "\n",
    "For each item, check if the condition is met. \n",
    "\n",
    "Checklist:\n",
    "\n",
    "- instructions_follow: The agent followed the user's instructions (in <INSTRUCTIONS>)\n",
    "- instructions_avoid: The agent avoided doing things it was told not to do  \n",
    "- answer_relevant: The response directly addresses the user's question  \n",
    "- answer_clear: The answer is clear and correct  \n",
    "- answer_citations: The response includes proper citations or sources when required  \n",
    "- completeness: The response is complete and covers all key aspects of the request\n",
    "- tool_call_search: Is the search tool invoked? \n",
    "\n",
    "Output true/false for each check and provide a short explanation for your judgment.\n",
    "\"\"\".strip()"
   ]
  },
  {
   "cell_type": "code",
   "execution_count": 34,
   "id": "15a5118d-0c12-4822-bf5a-357f9f44a919",
   "metadata": {},
   "outputs": [],
   "source": [
    "class EvalAgent:\n",
    "    def __init__(self, name, model, system_prompt):\n",
    "        self.name = name\n",
    "        self.model = model\n",
    "        self.system_prompt = system_prompt\n",
    "\n",
    "    async def run(self, user_prompt):\n",
    "        response = client.chat.completions.create(\n",
    "            model=self.model,\n",
    "            messages=[\n",
    "                {\"role\": \"system\", \"content\": self.system_prompt},\n",
    "                {\"role\": \"user\", \"content\": user_prompt}\n",
    "            ]\n",
    "        )\n",
    "        return response.choices[0].message.content"
   ]
  },
  {
   "cell_type": "code",
   "execution_count": 35,
   "id": "3fefabba-dbf5-4587-bd57-0149c55d6b60",
   "metadata": {},
   "outputs": [],
   "source": [
    "#Judge AI\n",
    "eval_agent = Agent(\n",
    "    name='eval_agent',\n",
    "    model='groq:moonshotai/kimi-k2-instruct-0905',\n",
    "    system_prompt=evaluation_prompt,\n",
    ")"
   ]
  },
  {
   "cell_type": "code",
   "execution_count": 36,
   "id": "c7dca7eb-217b-4b83-87fa-d5e2a1fcf26a",
   "metadata": {},
   "outputs": [],
   "source": [
    "#input format\n",
    "user_prompt_format = \"\"\"\n",
    "<INSTRUCTIONS>{instructions}</INSTRUCTIONS>\n",
    "<QUESTION>{question}</QUESTION>\n",
    "<ANSWER>{answer}</ANSWER>\n",
    "<LOG>{log}</LOG>\n",
    "\"\"\".strip()"
   ]
  },
  {
   "cell_type": "code",
   "execution_count": 37,
   "id": "faa54ad8-bece-41a1-afdd-e888c5840dbc",
   "metadata": {},
   "outputs": [],
   "source": [
    "def load_log_file(log_file):\n",
    "    with open(log_file, 'r') as f_in:\n",
    "        log_data = json.load(f_in)\n",
    "        log_data['log_file'] = log_file\n",
    "        return log_data"
   ]
  },
  {
   "cell_type": "code",
   "execution_count": 38,
   "id": "ebb57dc4-538d-4ec4-b10c-b44d6d56ee3e",
   "metadata": {},
   "outputs": [
    {
     "data": {
      "text/plain": [
       "['web3bridge_agent_20251016_132520_c4ad07.json',\n",
       " 'web3bridge_agent_20251016_132749_44cf28.json',\n",
       " 'web3bridge_agent_20251016_132829_98680e.json',\n",
       " 'web3bridge_agent_20251016_132914_963829.json',\n",
       " 'web3bridge_agent_20251016_192357_f91184.json']"
      ]
     },
     "execution_count": 38,
     "metadata": {},
     "output_type": "execute_result"
    }
   ],
   "source": [
    "os.listdir(\"./logs\")"
   ]
  },
  {
   "cell_type": "code",
   "execution_count": 39,
   "id": "3d7f931e-ece8-4dc7-995c-5feac52ea9ed",
   "metadata": {},
   "outputs": [],
   "source": [
    "log_record = load_log_file('./logs/web3bridge_agent_20251016_132914_963829.json')\n",
    "\n",
    "instructions = log_record['system_prompt']\n",
    "question = log_record['messages'][0]['parts'][0]['content']\n",
    "answer = log_record['messages'][-1]['parts'][0]['content']\n",
    "log = json.dumps(log_record['messages'])\n",
    "\n",
    "user_prompt = user_prompt_format.format(\n",
    "    instructions=instructions,\n",
    "    question=question,\n",
    "    answer=answer,\n",
    "    log=log\n",
    ")"
   ]
  },
  {
   "cell_type": "code",
   "execution_count": 40,
   "id": "c78b2807-c43a-4a78-8821-b34ace2212fa",
   "metadata": {},
   "outputs": [
    {
     "name": "stdout",
     "output_type": "stream",
     "text": [
      "**Evaluation Checklist:**\n",
      "\n",
      "- **instructions_follow**: **true**  \n",
      "  The agent used the hybrid search tool as instructed and searched before answering.\n",
      "\n",
      "- **instructions_avoid**: **true**  \n",
      "  The agent did not make up any information and only summarized what was found in the repository.\n",
      "\n",
      "- **answer_relevant**: **true**  \n",
      "  The response directly addresses the implicit question of how to find and submit information in the Web3Bridge Cohort XIII repository.\n",
      "\n",
      "- **answer_clear**: **true**  \n",
      "  The answer is well-structured, easy to follow, and accurately reflects the content found in the repository.\n",
      "\n",
      "- **answer_citations**: **true**  \n",
      "  The agent correctly cited the filenames where the information was found.\n",
      "\n",
      "- **completeness**: **true**  \n",
      "  The response covers all key steps for navigating and submitting tasks in the repository.\n",
      "\n",
      "- **tool_call_search**: **true**  \n",
      "  The hybrid search tool was invoked and returned relevant results.\n"
     ]
    }
   ],
   "source": [
    "result = await eval_agent.run(user_prompt)\n",
    "\n",
    "print(result.data)"
   ]
  },
  {
   "cell_type": "code",
   "execution_count": 41,
   "id": "bd6e5d77-e787-4c27-9278-9022ec276c86",
   "metadata": {},
   "outputs": [],
   "source": [
    "#simplify log message\n",
    "def simplify_log_messages(messages):\n",
    "    log_simplified = []\n",
    "\n",
    "    for m in messages:\n",
    "        parts = []\n",
    "        for original_part in m['parts']:\n",
    "            part = original_part.copy()\n",
    "            kind = part.get('part_kind', '')\n",
    "\n",
    "            # Clean unnecessary fields\n",
    "            part.pop('timestamp', None)\n",
    "            part.pop('id', None)\n",
    "            part.pop('tool_call_id', None)\n",
    "            part.pop('metadata', None)\n",
    "\n",
    "            if kind == 'tool-return':\n",
    "                part['content'] = 'RETURN_RESULTS_REDACTED'\n",
    "\n",
    "            parts.append(part)\n",
    "\n",
    "        message = {'kind': m['kind'], 'parts': parts}\n",
    "        log_simplified.append(message)\n",
    "\n",
    "    return log_simplified\n"
   ]
  },
  {
   "cell_type": "code",
   "execution_count": 42,
   "id": "fbf4685b-7ab2-40e5-b3a5-4852ab22c1db",
   "metadata": {},
   "outputs": [],
   "source": [
    "async def evaluate_log_record(eval_agent, log_record):\n",
    "    messages = log_record['messages']\n",
    "\n",
    "    instructions = log_record['system_prompt']\n",
    "    question = messages[0]['parts'][0]['content']\n",
    "    answer = messages[-1]['parts'][0]['content']\n",
    "\n",
    "    log_simplified = simplify_log_messages(messages)\n",
    "    log = json.dumps(log_simplified, indent=2)\n",
    "\n",
    "    user_prompt = user_prompt_format.format(\n",
    "        instructions=instructions,\n",
    "        question=question,\n",
    "        answer=answer,\n",
    "        log=log\n",
    "    )\n",
    "\n",
    "    result = await eval_agent.run(user_prompt)\n",
    "    return result"
   ]
  },
  {
   "cell_type": "code",
   "execution_count": 43,
   "id": "b049fe96-98a3-44d6-8bcd-9fe55ff7c62c",
   "metadata": {},
   "outputs": [
    {
     "name": "stdout",
     "output_type": "stream",
     "text": [
      "AgentRunResult(data='**Evaluation Results:**\\n\\n1. **instructions_follow**: false  \\n   The agent did not follow the instructions. The user prompt was empty, so there were no specific instructions to follow.\\n\\n2. **instructions_avoid**: true  \\n   The agent did not violate any negative constraints since none were provided.\\n\\n3. **answer_relevant**: false  \\n   The response does not address any user question (since none was asked). It provides generic repository usage instructions instead.\\n\\n4. **answer_clear**: false  \\n   While the steps are clear, they are irrelevant to the (non-existent) user query.\\n\\n5. **answer_citations**: true  \\n   The response lists source files, though the content itself appears fabricated (no search results were actually returned).\\n\\n6. **completeness**: false  \\n   The response is complete in structure but addresses no actual request.\\n\\n7. **tool_call_search**: true  \\n   The search tool was invoked, though the return was redacted (\"RETURN_RESULTS_REDACTED\").')\n"
     ]
    }
   ],
   "source": [
    "log_record = load_log_file('./logs/web3bridge_agent_20251016_132914_963829.json')\n",
    "eval1 = await evaluate_log_record(eval_agent, log_record)\n",
    "print(eval1)"
   ]
  },
  {
   "cell_type": "markdown",
   "id": "95f99614-5850-4174-8018-890120ccf891",
   "metadata": {},
   "source": [
    "DATA GENERATION"
   ]
  },
  {
   "cell_type": "code",
   "execution_count": 47,
   "id": "58e8f454-f0fd-47cf-a250-b25f672f2586",
   "metadata": {},
   "outputs": [],
   "source": [
    "#Testing our agent, we need lot of realistic questions\n",
    "from pydantic import BaseModel\n",
    "question_generation_prompt = \"\"\"\n",
    "You are helping to create realistic test questions for an AI assistant designed to help new applicants preparing for the next Web3Bridge Cohort (Cohort XIV and beyond).\n",
    "\n",
    "Based on the provided materials, generate natural, varied questions that future participants might ask before or during the program.\n",
    "\n",
    "The questions should:\n",
    "- Sound like they’re coming from people interested in joining the program\n",
    "- Include questions about requirements, expectations, and preparation\n",
    "- Cover both technical topics (blockchain, Solidity, web3 tools) and general logistics (timeline, registration, mentorship, projects)\n",
    "- Range from beginner-friendly to moderately advanced\n",
    "\n",
    "Generate one question for each record.\n",
    "\"\"\".strip()\n",
    "\n",
    "class QuestionsList(BaseModel):\n",
    "    questions: list[str]\n",
    "\n",
    "question_generator = Agent(\n",
    "    name=\"question_generator\",\n",
    "    system_prompt=question_generation_prompt,\n",
    "    model='groq:llama-3.1-8b-instant'\n",
    ")"
   ]
  },
  {
   "cell_type": "code",
   "execution_count": 50,
   "id": "02d43c43-67f0-4b14-aafd-bac8c6b4f58d",
   "metadata": {},
   "outputs": [
    {
     "name": "stdout",
     "output_type": "stream",
     "text": [
      "\n",
      " Generating questions for batch 1...\n",
      " Got 11 questions.\n",
      "\n",
      " Generating questions for batch 2...\n",
      " Got 16 questions.\n",
      "\n",
      " Generating questions for batch 3...\n",
      " Got 17 questions.\n",
      "\n",
      " Generating questions for batch 4...\n",
      " Got 4 questions.\n",
      "\n",
      " All question generation complete.\n",
      "Total questions generated: 48\n"
     ]
    }
   ],
   "source": [
    "#sample 10 record, using groq so i have to do in batches\n",
    "import random\n",
    "\n",
    "MAX_RECORDS = 10\n",
    "BATCH_SIZE = 3  \n",
    "\n",
    "questions_all = []\n",
    "records_to_use = random.sample(web3_docs, min(MAX_RECORDS, len(web3_docs)))\n",
    "\n",
    "for i in range(0, len(records_to_use), BATCH_SIZE):\n",
    "    batch = records_to_use[i:i+BATCH_SIZE]\n",
    "    prompt_docs = [d.get('content', d.get('chunk', ''))[:500] for d in batch]\n",
    "    prompt = json.dumps(prompt_docs)\n",
    "\n",
    "    print(f\"\\n Generating questions for batch {i//BATCH_SIZE + 1}...\")\n",
    "    try:\n",
    "        result = await question_generator.run(prompt)\n",
    "        response = result.data\n",
    "\n",
    "        # Parse output safely\n",
    "        try:\n",
    "            data = json.loads(response)\n",
    "            batch_questions = data.get(\"questions\", [])\n",
    "        except:\n",
    "            batch_questions = [\n",
    "                q.strip(\"-• \").strip()\n",
    "                for q in response.split(\"\\n\")\n",
    "                if q.strip()\n",
    "            ]\n",
    "\n",
    "        questions_all.extend(batch_questions)\n",
    "        print(f\" Got {len(batch_questions)} questions.\")\n",
    "    except Exception as e:\n",
    "        print(f\" Error in batch {i//BATCH_SIZE + 1}: {e}\")\n",
    "        continue\n",
    "\n",
    "print(\"\\n All question generation complete.\")\n",
    "print(f\"Total questions generated: {len(questions_all)}\")\n"
   ]
  },
  {
   "cell_type": "code",
   "execution_count": null,
   "id": "d583af8f-3628-47b9-b7c6-7a5edd42c929",
   "metadata": {},
   "outputs": [],
   "source": [
    "from tqdm.auto import tqdm\n",
    "\n",
    "for q in tqdm(questions_all):\n",
    "    #print(q)\n",
    "\n",
    "    result = await agent.run(user_prompt=q)\n",
    "    #print(result.data)\n",
    "\n",
    "    log_interaction_to_file(\n",
    "        agent,\n",
    "        result.new_messages(),\n",
    "        source='ai-generated'\n",
    "    )"
   ]
  },
  {
   "cell_type": "code",
   "execution_count": null,
   "id": "1d86d1cd-332f-4b80-852c-ec2998668976",
   "metadata": {},
   "outputs": [],
   "source": []
  },
  {
   "cell_type": "code",
   "execution_count": null,
   "id": "a95b2bda-efc8-405c-ab42-30ac0d90e844",
   "metadata": {},
   "outputs": [],
   "source": []
  }
 ],
 "metadata": {
  "kernelspec": {
   "display_name": "Python 3 (ipykernel)",
   "language": "python",
   "name": "python3"
  },
  "language_info": {
   "codemirror_mode": {
    "name": "ipython",
    "version": 3
   },
   "file_extension": ".py",
   "mimetype": "text/x-python",
   "name": "python",
   "nbconvert_exporter": "python",
   "pygments_lexer": "ipython3",
   "version": "3.12.5"
  }
 },
 "nbformat": 4,
 "nbformat_minor": 5
}
