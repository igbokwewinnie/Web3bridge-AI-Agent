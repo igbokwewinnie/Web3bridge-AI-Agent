{
 "cells": [
  {
   "cell_type": "code",
   "execution_count": 1,
   "id": "5123304c-8f9e-42f0-b9e8-f4e290ad80ac",
   "metadata": {},
   "outputs": [
    {
     "name": "stdout",
     "output_type": "stream",
     "text": [
      "{'title': 'Blockchain Test', 'tags': ['web3', 'smart-contract']}\n",
      "This is the content\n"
     ]
    }
   ],
   "source": [
    "import frontmatter\n",
    "\n",
    "sample = \"\"\"---\n",
    "title: Blockchain Test\n",
    "tags: [web3, smart-contract]\n",
    "---\n",
    "This is the content\n",
    "\"\"\"\n",
    "\n",
    "post = frontmatter.loads(sample)\n",
    "print(post.metadata)\n",
    "print(post.content)\n"
   ]
  },
  {
   "cell_type": "code",
   "execution_count": 4,
   "id": "47d33242-fad9-425d-a8cb-9d048abdeaab",
   "metadata": {},
   "outputs": [],
   "source": [
    "import io\n",
    "import zipfile\n",
    "import requests\n",
    "import frontmatter"
   ]
  },
  {
   "cell_type": "code",
   "execution_count": 5,
   "id": "628ece92-c73b-434c-b388-f0d90e6d5aaf",
   "metadata": {},
   "outputs": [],
   "source": [
    "url = 'https://codeload.github.com/Bloceducare/Web3bridge-Web3-Cohort-XIII/zip/refs/heads/main'\n",
    "resp = requests.get(url)"
   ]
  },
  {
   "cell_type": "code",
   "execution_count": 6,
   "id": "de5e3ec8-d19b-4a63-a730-45ef84221eb3",
   "metadata": {},
   "outputs": [],
   "source": [
    "def read_repo_data(repo_owner, repo_name):\n",
    "    \"\"\"\n",
    "    Download and parse all markdown files from a GitHub repository.\n",
    "    \n",
    "    Args:\n",
    "        repo_owner: GitHub username or organization\n",
    "        repo_name: Repository name\n",
    "    \n",
    "    Returns:\n",
    "        List of dictionaries containing file content and metadata\n",
    "    \"\"\"\n",
    "    prefix = 'https://codeload.github.com' \n",
    "    url = f'{prefix}/{repo_owner}/{repo_name}/zip/refs/heads/main'\n",
    "    resp = requests.get(url)\n",
    "    \n",
    "    if resp.status_code != 200:\n",
    "        raise Exception(f\"Failed to download repository: {resp.status_code}\")\n",
    "\n",
    "    repository_data = []\n",
    "    zf = zipfile.ZipFile(io.BytesIO(resp.content))\n",
    "    \n",
    "    for file_info in zf.infolist():\n",
    "        filename = file_info.filename\n",
    "        filename_lower = filename.lower()\n",
    "\n",
    "        if not (filename_lower.endswith('.md') \n",
    "            or filename_lower.endswith('.mdx')):\n",
    "            continue\n",
    "    \n",
    "        try:\n",
    "            with zf.open(file_info) as f_in:\n",
    "                content = f_in.read().decode('utf-8', errors='ignore')\n",
    "                post = frontmatter.loads(content)\n",
    "                data = post.to_dict()\n",
    "                data['filename'] = filename\n",
    "                repository_data.append(data)\n",
    "        except Exception as e:\n",
    "            print(f\"Error processing {filename}: {e}\")\n",
    "            continue\n",
    "    \n",
    "    zf.close()\n",
    "    return repository_data"
   ]
  },
  {
   "cell_type": "code",
   "execution_count": 7,
   "id": "1e0791f6-fc28-4217-a266-f76a9a4807d3",
   "metadata": {},
   "outputs": [
    {
     "name": "stdout",
     "output_type": "stream",
     "text": [
      "Documents found: 254\n"
     ]
    }
   ],
   "source": [
    "web3_docs = read_repo_data('Bloceducare', 'Web3bridge-Web3-Cohort-XIII')\n",
    "\n",
    "print(f\"Documents found: {len(web3_docs)}\")"
   ]
  },
  {
   "cell_type": "code",
   "execution_count": 11,
   "id": "8763b841-eec1-468f-858e-a6249daa7534",
   "metadata": {},
   "outputs": [
    {
     "name": "stdout",
     "output_type": "stream",
     "text": [
      "{'content': '# Sample Hardhat Project\\n\\nThis project demonstrates a basic Hardhat use case. It comes with a sample contract, a test for that contract, and a Hardhat Ignition module that deploys that contract.\\n\\nTry running some of the following tasks:\\n\\n```shell\\nnpx hardhat help\\nnpx hardhat test\\nREPORT_GAS=true npx hardhat test\\nnpx hardhat node\\nnpx hardhat ignition deploy ./ignition/modules/Lock.js\\n```', 'filename': 'Web3bridge-Web3-Cohort-XIII-main/online-program/submissions/Allan-robinson-sepolia-storage/README.md'}\n"
     ]
    }
   ],
   "source": [
    "print(web3_docs[2])"
   ]
  },
  {
   "cell_type": "code",
   "execution_count": null,
   "id": "e99e6e70-8a1b-469d-9d8f-3ccdf72c761e",
   "metadata": {},
   "outputs": [],
   "source": []
  }
 ],
 "metadata": {
  "kernelspec": {
   "display_name": "Python 3 (ipykernel)",
   "language": "python",
   "name": "python3"
  },
  "language_info": {
   "codemirror_mode": {
    "name": "ipython",
    "version": 3
   },
   "file_extension": ".py",
   "mimetype": "text/x-python",
   "name": "python",
   "nbconvert_exporter": "python",
   "pygments_lexer": "ipython3",
   "version": "3.12.5"
  }
 },
 "nbformat": 4,
 "nbformat_minor": 5
}
