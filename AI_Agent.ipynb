{
 "cells": [
  {
   "cell_type": "markdown",
   "id": "a39eca39-7ddc-4755-98c0-6d87756ad8fb",
   "metadata": {},
   "source": [
    "DATA INGESTION\n",
    "-Downloading data from github repos and store all files into repository data"
   ]
  },
  {
   "cell_type": "code",
   "execution_count": 1,
   "id": "5123304c-8f9e-42f0-b9e8-f4e290ad80ac",
   "metadata": {},
   "outputs": [
    {
     "name": "stdout",
     "output_type": "stream",
     "text": [
      "{'title': 'Blockchain Test', 'tags': ['web3', 'smart-contract']}\n",
      "This is the content\n"
     ]
    }
   ],
   "source": [
    "import frontmatter\n",
    "\n",
    "sample = \"\"\"---\n",
    "title: Blockchain Test\n",
    "tags: [web3, smart-contract]\n",
    "---\n",
    "This is the content\n",
    "\"\"\"\n",
    "\n",
    "post = frontmatter.loads(sample)\n",
    "print(post.metadata)\n",
    "print(post.content)\n"
   ]
  },
  {
   "cell_type": "code",
   "execution_count": 2,
   "id": "47d33242-fad9-425d-a8cb-9d048abdeaab",
   "metadata": {},
   "outputs": [],
   "source": [
    "import io\n",
    "import zipfile\n",
    "import requests\n",
    "import frontmatter"
   ]
  },
  {
   "cell_type": "code",
   "execution_count": 3,
   "id": "628ece92-c73b-434c-b388-f0d90e6d5aaf",
   "metadata": {},
   "outputs": [],
   "source": [
    "url = 'https://codeload.github.com/Bloceducare/Web3bridge-Web3-Cohort-XIII/zip/refs/heads/main'\n",
    "resp = requests.get(url)"
   ]
  },
  {
   "cell_type": "code",
   "execution_count": 4,
   "id": "de5e3ec8-d19b-4a63-a730-45ef84221eb3",
   "metadata": {},
   "outputs": [],
   "source": [
    "def read_repo_data(repo_owner, repo_name):\n",
    "    \"\"\"\n",
    "    Download and parse all markdown files from a GitHub repository.\n",
    "    \n",
    "    Args:\n",
    "        repo_owner: GitHub username or organization\n",
    "        repo_name: Repository name\n",
    "    \n",
    "    Returns:\n",
    "        List of dictionaries containing file content and metadata\n",
    "    \"\"\"\n",
    "    prefix = 'https://codeload.github.com' \n",
    "    url = f'{prefix}/{repo_owner}/{repo_name}/zip/refs/heads/main'\n",
    "    resp = requests.get(url)\n",
    "    \n",
    "    if resp.status_code != 200:\n",
    "        raise Exception(f\"Failed to download repository: {resp.status_code}\")\n",
    "\n",
    "    repository_data = []\n",
    "    zf = zipfile.ZipFile(io.BytesIO(resp.content))\n",
    "    \n",
    "    for file_info in zf.infolist():\n",
    "        filename = file_info.filename\n",
    "        filename_lower = filename.lower()\n",
    "\n",
    "        if not (filename_lower.endswith('.md') \n",
    "            or filename_lower.endswith('.mdx')):\n",
    "            continue\n",
    "    \n",
    "        try:\n",
    "            with zf.open(file_info) as f_in:\n",
    "                content = f_in.read().decode('utf-8', errors='ignore')\n",
    "                post = frontmatter.loads(content)\n",
    "                data = post.to_dict()\n",
    "                data['filename'] = filename\n",
    "                repository_data.append(data)\n",
    "        except Exception as e:\n",
    "            print(f\"Error processing {filename}: {e}\")\n",
    "            continue\n",
    "    \n",
    "    zf.close()\n",
    "    return repository_data"
   ]
  },
  {
   "cell_type": "code",
   "execution_count": 5,
   "id": "1e0791f6-fc28-4217-a266-f76a9a4807d3",
   "metadata": {},
   "outputs": [
    {
     "name": "stdout",
     "output_type": "stream",
     "text": [
      "Documents found: 254\n"
     ]
    }
   ],
   "source": [
    "web3_docs = read_repo_data('Bloceducare', 'Web3bridge-Web3-Cohort-XIII')\n",
    "\n",
    "print(f\"Documents found: {len(web3_docs)}\")"
   ]
  },
  {
   "cell_type": "code",
   "execution_count": 6,
   "id": "8763b841-eec1-468f-858e-a6249daa7534",
   "metadata": {},
   "outputs": [
    {
     "name": "stdout",
     "output_type": "stream",
     "text": [
      "{'content': '# Web3bridge Web3 Cohort XIII - GitHub Contribution Guide\\n\\nWelcome to the Web3Bridge Cohort XIII training program! This repository is used for submitting tasks, tracking student progress, and grading assessments. Follow this guide to ensure a smooth contribution process.\\n\\n--- \\n\\n## For Students: Submitting Your Tasks\\n\\n### 1. Fork the Repository\\n\\nCreate a personal copy of this repository on your GitHub account.\\n\\n- Visit the repository page: [Web3bridge-Web3-Cohort-XIII](https://github.com/Bloceducare/Web3bridge-Web3-Cohort-XIII)\\n- Click the \"Fork\" button at the top right of the page.\\n\\n### 2. Clone Your Forked Repository\\n\\nDownload your forked repository to your local machine:\\n\\n```bash\\ngit clone https://github.com/<your_username>/Web3bridge-Web3-Cohort-XIII\\ncd Web3bridge-Web3-Cohort-XIII\\n```\\n\\n### 3. Sync Your Repository Regularly\\n\\nKeep your fork updated with the latest changes from the main repository:\\n\\n```bash\\ngit remote add upstream https://github.com/Bloceducare/Web3bridge-Web3-Cohort-XIII\\ngit pull upstream master\\ngit push origin master\\n```\\n\\n### 4. Navigate to the Correct Submission Folder\\n\\nTasks are categorized by week and day. Navigate to the appropriate folder:\\n\\n```bash\\ncd submissions/week-<week_number>/day-<day_number>\\n```\\n\\nExample:\\n\\n```bash\\ncd submissions/week-1/day-1\\n```\\n\\n### 5. Create Your Personal Folder\\n\\nEach student should create a folder using their registered name and project name:\\n\\n```bash\\nmkdir <your_name>-<project_name>\\n```\\n\\nExample:\\n\\n```bash\\nmkdir JohnDoe-Merkle-Tree\\n```\\n\\n### 6. Add Your Task Files\\n\\nPlace your task files inside your folder. Ensure proper documentation and organization.\\n\\n### 7. Commit and Push Your Changes\\n\\nSave your changes and push them to your forked repository:\\n\\n```bash\\ngit add .\\ngit commit -m \"Add Week <week_number> Day <day_number> task for <your_name> <project_name>\"\\ngit push origin main\\n```\\n\\nExample:\\n\\n```bash\\ngit add .\\ngit commit -m \"Add Week 1 Day 1 task for JohnDoe Merkle Tree\"\\ngit push origin main\\n```\\n\\n### 8. Create a Pull Request\\n\\n- Go to the original GitHub repository in your browser: [Web3bridge-Web3-Cohort-XIII](https://github.com/Bloceducare/Web3bridge-Web3-Cohort-XIII).\\n- Click on the Pull Requests tab.\\n- Click New Pull Request and select \"Compare across forks\" if needed.\\n- Select your forked repository and branch as the source, and the master branch of the original repository as the destination.\\n- Provide a descriptive title and include details about your project in the description.\\n\\nExample PR Title:\\n\\n```bash\\nAdd Week 1 Day 1 task for JohnDoe Merkle Tree\\n```\\n\\n### 9. Wait for Review\\n\\nMentors may leave comments or request changes. Make updates accordingly and push again.\\n\\n---\\n\\n## Additional Notes\\n\\n- Ensure your project is complete, well-documented, and functional before submitting.\\n- Follow the repository\\'s coding and folder structure guidelines.\\n- Create a new folder each week and place all files and assets related to that week\\'s project in the folder.\\n- PRs should have meaningful descriptions.\\n- Regularly sync the repository to get the latest updates.\\n- If you encounter any issues, contact your training facilitator for help.\\n\\n## For Mentors: Managing Tasks\\n\\n### 1. Adding Tasks\\n\\n- Navigate to the **tasks/week-<week_number>/** folder.\\n- Create a markdown file named `Day-<day_number>-task.md`.\\n- Provide clear instructions and expectations.\\n- Commit and push your changes.\\n\\nExample:\\n\\n```bash\\ngit add tasks/week-1/Day-1-task.md\\ngit commit -m \"Add Week 1 Day 1 Merkle Tree Task\"\\ngit push origin main\\n```\\n\\n### 2. Preparing the Submission Folder\\n\\n- Navigate to the **submissions/week-<week_number>/** folder.\\n- If a task is given for a specific day, create a corresponding **day subfolder** (`day-<day_number>/`).\\n- Example:\\n  submissions/week-3/day-2/\\n\\n- Students will submit inside this subfolder using their **Registered Name** and **Project Name** as their personal directory.\\n- Example:\\n  submissions/week-3/day-2/JohnDoe-Merkle-Tree/\\n\\n### 3. Reviewing Student Submissions\\n\\n- Check the Pull Requests (PRs) tab on GitHub.\\n- Open a PR and review the student’s work.\\n- Leave comments for corrections if needed.\\n- Approve the PR if it meets expectations.\\n- Merge the PR after approval.\\n\\nThank you for contributing to Web3Bridge Cohort XIII! Happy coding!', 'filename': 'Web3bridge-Web3-Cohort-XIII-main/README.md'}\n"
     ]
    }
   ],
   "source": [
    "print(web3_docs[0])"
   ]
  },
  {
   "cell_type": "markdown",
   "id": "ce3f3972-8812-40f7-a27a-aa10ce7fe68a",
   "metadata": {},
   "source": [
    "CHUNKING AND INTELLIGENT PROCESSING FOR DATA"
   ]
  },
  {
   "cell_type": "code",
   "execution_count": 7,
   "id": "e99e6e70-8a1b-469d-9d8f-3ccdf72c761e",
   "metadata": {},
   "outputs": [],
   "source": [
    "#apply simple chunking using sliding window method\n",
    "def sliding_window(seq, size, step):\n",
    "    if size <= 0 or step <= 0:\n",
    "        raise ValueError(\"size and step must be positive\")\n",
    "\n",
    "    n = len(seq)\n",
    "    result = []\n",
    "    for i in range(0, n, step):\n",
    "        chunk = seq[i:i+size]\n",
    "        result.append({'start': i, 'chunk': chunk})\n",
    "        if i + size >= n:\n",
    "            break\n",
    "\n",
    "    return result\n"
   ]
  },
  {
   "cell_type": "code",
   "execution_count": 8,
   "id": "db6ba239-c24f-4e5d-92b6-ef08fa3d2339",
   "metadata": {},
   "outputs": [
    {
     "name": "stdout",
     "output_type": "stream",
     "text": [
      "Number of chunks created: 4\n",
      "First chunk preview:\n",
      " # Web3bridge Web3 Cohort XIII - GitHub Contribution Guide\n",
      "\n",
      "Welcome to the Web3Bridge Cohort XIII training program! This repository is used for submitting tasks, tracking student progress, and grading assessments. Follow this guide to ensure a smooth contribution process.\n",
      "\n",
      "--- \n",
      "\n",
      "## For Students: Submitting Your Tasks\n",
      "\n",
      "### 1. Fork the Repository\n",
      "\n",
      "Create a personal copy of this repository on your GitHub account.\n",
      "\n",
      "- Visit the repository page: [Web3bridge-Web3-Cohort-XIII](https://github.com/Bloceduc\n"
     ]
    }
   ],
   "source": [
    "doc = web3_docs[0]\n",
    "\n",
    "# Then pass its 'content' to sliding_window\n",
    "chunks = sliding_window(doc[\"content\"], size=2000, step=1000)\n",
    "\n",
    "# Preview results\n",
    "print(\"Number of chunks created:\", len(chunks))\n",
    "print(\"First chunk preview:\\n\", chunks[0][\"chunk\"][:500])"
   ]
  },
  {
   "cell_type": "code",
   "execution_count": 9,
   "id": "5a156063-b6c1-474c-af6a-deb90aaa41bd",
   "metadata": {},
   "outputs": [
    {
     "name": "stdout",
     "output_type": "stream",
     "text": [
      "Total chunks created: 400\n"
     ]
    }
   ],
   "source": [
    "web3_chunks = []\n",
    "\n",
    "for doc in web3_docs:\n",
    "    doc_copy = doc.copy()\n",
    "    doc_content = doc_copy.pop('content')  # remove big text to keep metadata\n",
    "    chunks = sliding_window(doc_content, 2000, 1000)\n",
    "    for chunk in chunks:\n",
    "        chunk.update(doc_copy) \n",
    "    web3_chunks.extend(chunks)\n",
    "\n",
    "print(\"Total chunks created:\", len(web3_chunks))"
   ]
  },
  {
   "cell_type": "code",
   "execution_count": 10,
   "id": "e17ff396-c937-4035-b280-d05a3102eae4",
   "metadata": {},
   "outputs": [
    {
     "name": "stdout",
     "output_type": "stream",
     "text": [
      "Document 0 has 50 paragraphs\n",
      "First paragraph: # Web3bridge Web3 Cohort XIII - GitHub Contribution Guide...\n"
     ]
    }
   ],
   "source": [
    "#splitting by paragraphs\n",
    "import re\n",
    "\n",
    "if len(web3_docs) > 0:\n",
    "    text = web3_docs[0]['content']\n",
    "    paragraphs = re.split(r\"\\n\\s*\\n\", text.strip())\n",
    "    print(f\"Document 0 has {len(paragraphs)} paragraphs\")\n",
    "    print(f\"First paragraph: {paragraphs[0][:200]}...\")\n",
    "else:\n",
    "    print(\"Document 0 not available\")"
   ]
  },
  {
   "cell_type": "code",
   "execution_count": 11,
   "id": "e67f9cc5-f694-43d5-aa84-e46d04ecc608",
   "metadata": {},
   "outputs": [],
   "source": [
    "#splitting by headers\n",
    "import re\n",
    "\n",
    "def split_markdown_by_level(text, level=2):\n",
    "    \"\"\"\n",
    "    Split markdown text by a specific header level.\n",
    "    \n",
    "    :param text: Markdown text as a string\n",
    "    :param level: Header level to split on\n",
    "    :return: List of sections as strings\n",
    "    \"\"\"\n",
    "    header_pattern = r'^(#{' + str(level) + r'} )(.+)$'\n",
    "    pattern = re.compile(header_pattern, re.MULTILINE)\n",
    "\n",
    "    parts = pattern.split(text)\n",
    "    \n",
    "    sections = []\n",
    "    for i in range(1, len(parts), 3):\n",
    "        header = parts[i] + parts[i+1]  # \"## \" + \"Title\"\n",
    "        header = header.strip()\n",
    "\n",
    "        content = \"\"\n",
    "        if i+2 < len(parts):\n",
    "            content = parts[i+2].strip()\n",
    "\n",
    "        if content:\n",
    "            section = f'{header}\\n\\n{content}'\n",
    "        else:\n",
    "            section = header\n",
    "        sections.append(section)\n",
    "    \n",
    "    return sections\n"
   ]
  },
  {
   "cell_type": "code",
   "execution_count": 12,
   "id": "be50e267-b5b2-4f8c-9a9c-ca60b3afceee",
   "metadata": {},
   "outputs": [
    {
     "name": "stdout",
     "output_type": "stream",
     "text": [
      "Total sections created: 337\n",
      "Preview first section:\n",
      " ## For Students: Submitting Your Tasks\n",
      "\n",
      "### 1. Fork the Repository\n",
      "\n",
      "Create a personal copy of this repository on your GitHub account.\n",
      "\n",
      "- Visit the repository page: [Web3bridge-Web3-Cohort-XIII](https://github.com/Bloceducare/Web3bridge-Web3-Cohort-XIII)\n",
      "- Click the \"Fork\" button at the top right of the page.\n",
      "\n",
      "### 2. Clone Your Forked Repository\n",
      "\n",
      "Download your forked repository to your local machine:\n",
      "\n",
      "```bash\n",
      "git clone https://github.com/<your_username>/Web3bridge-Web3-Cohort-XIII\n",
      "cd Web3bridge-W\n"
     ]
    }
   ],
   "source": [
    "web3_chunk = []\n",
    "\n",
    "for doc in web3_docs:\n",
    "    doc_copy = doc.copy()\n",
    "    doc_content = doc_copy.pop('content')  # remove content for section splitting\n",
    "    sections = split_markdown_by_level(doc_content, level=2)  # split by ## headers\n",
    "    for section in sections:\n",
    "        section_doc = doc_copy.copy()\n",
    "        section_doc['section'] = section\n",
    "        web3_chunk.append(section_doc)\n",
    "\n",
    "print(\"Total sections created:\", len(web3_chunk))\n",
    "print(\"Preview first section:\\n\", web3_chunk[0]['section'][:500])\n"
   ]
  },
  {
   "cell_type": "code",
   "execution_count": 13,
   "id": "960c4a4a-a28d-4caa-8898-d05770fb0c99",
   "metadata": {},
   "outputs": [
    {
     "name": "stdout",
     "output_type": "stream",
     "text": [
      "dict_keys(['content', 'filename'])\n",
      "dict_keys(['start', 'chunk', 'filename'])\n"
     ]
    }
   ],
   "source": [
    "print(web3_docs[0].keys())\n",
    "print(web3_chunks[0].keys())"
   ]
  },
  {
   "cell_type": "markdown",
   "id": "8b7ff9ae-7a46-420d-8c75-2eec017f0e97",
   "metadata": {},
   "source": [
    "ADD SEARCH"
   ]
  },
  {
   "cell_type": "code",
   "execution_count": 14,
   "id": "e5fd18ef-7ad8-4d8e-8b82-0269dc43bd12",
   "metadata": {},
   "outputs": [
    {
     "name": "stdout",
     "output_type": "stream",
     "text": [
      "[{'filename': 'Web3bridge-Web3-Cohort-XIII-main/online-program/submissions/week-3/day-5/Ifeoluwa-Sanni/Inheritance-in-Solidity.md', 'section': '## Multiple Inheritance\\n\\nUnlike some programming languages like Java, Solidity allows for multiple inheritance. Multiple inheritance refers to the ability of a derived contract to inherit data and methods from more than one parent contract. In other words, one child contract can have multiple parents.\\n\\n```solidity\\ncontract A { /* ... */ }\\ncontract B { /* ... */ }\\ncontract C is A, B {\\n    // Contract C inherits from both A and B\\n}\\n```'}, {'filename': 'Web3bridge-Web3-Cohort-XIII-main/online-program/submissions/week-3/day-5/Ifeoluwa-Sanni/Inheritance-in-Solidity.md', 'section': '## Basic Inheritance Syntax\\n\\nYou can spot a child contract and identify its parent contract by looking for the `is` keyword.\\n\\n```solidity\\ncontract A {\\n    string constant A_NAME = \"A\";\\n    \\n    function getName() public view returns (string memory) {\\n        return A_NAME;\\n    }\\n}\\n\\ncontract B is A {\\n    string constant B_NAME = \"B\";\\n    // Contract B now has access to A_NAME and getName() from Contract A\\n}\\n```'}, {'filename': 'Web3bridge-Web3-Cohort-XIII-main/online-program/submissions/week-3/day-5/Ifeoluwa-Sanni/Inheritance-in-Solidity.md', 'section': '## Key Terminology\\n\\n- **Derived Contract / Child Contract / Subclass**: The contract that receives this inherited material\\n- **Parent Contract**: The contract whose material is made available to one or more derived contracts'}, {'filename': 'Web3bridge-Web3-Cohort-XIII-main/online-program/submissions/week-3/day-5/Ifeoluwa-Sanni/Inheritance-in-Solidity.md', 'section': '## What is Inheritance?\\n\\nInheritance is a powerful concept in Object Oriented Programming (OOP). The best way to reason about inheritance in programming is to think of it as a way by which pieces of code \"inherit\" data and functions from other pieces of code by importing and embedding them.\\n\\nInheritance in Solidity also allows a developer to access, use and modify the properties (data) and functions (behaviour) of contracts that are inherited from.'}, {'filename': 'Web3bridge-Web3-Cohort-XIII-main/online-program/submissions/week-3/day-5/Ifeoluwa-Sanni/Inheritance-in-Solidity.md', 'section': '## Constructor Inheritance\\n\\nWhen parent contracts have constructors with parameters, child contracts must provide those arguments. There are two methods:\\n\\n### Method 1: Pass arguments in inheritance declaration\\n```solidity\\ncontract Parent {\\n    constructor(string memory _name) {\\n        // Constructor logic\\n    }\\n}\\n\\ncontract Child is Parent(\"ChildName\") {\\n    // Child constructor\\n}\\n```\\n\\n### Method 2: Pass arguments in child constructor\\n```solidity\\ncontract Child is Parent {\\n    constructor(string memory _childName) Parent(_childName) {\\n        // Child constructor logic\\n    }\\n}\\n```'}, {'filename': 'Web3bridge-Web3-Cohort-XIII-main/online-program/submissions/week-3/day-5/Ifeoluwa-Sanni/Inheritance-in-Solidity.md', 'section': '## Inheritance Hierarchy\\n\\nWhich version of a function will be called if a function by the same name and signature exists in a chain of inheritance? The answer is the last one – the \"most derived\" implementation in the contract hierarchy.\\n\\nFor inheritance chain A → B → C → D → E, if all contracts have the same function, the implementation in contract E will be called.'}, {'filename': 'Web3bridge-Web3-Cohort-XIII-main/online-program/submissions/week-3/day-5/Ifeoluwa-Sanni/Inheritance-in-Solidity.md', 'section': '## State Variables and Inheritance\\n\\n### Variable Shadowing Restrictions\\n\\nState variables in child contracts cannot have the same name and type as their parent contracts. This would cause a \"shadowing\" error.\\n\\n```solidity\\ncontract A {\\n    string author = \"Zubin\";\\n}\\n\\ncontract B is A {\\n    // This will cause a compiler error (shadowing)\\n    // string author = \"Someone else\";\\n}\\n\\ncontract C is A {\\n    // This is correct - different name\\n    string bookAuthor = \"Hemingway\";\\n    \\n    constructor() {\\n        author = \"Hemingway\"; // Overriding the value\\n    }\\n}\\n```'}, {'filename': 'Web3bridge-Web3-Cohort-XIII-main/online-program/submissions/week-3/day-5/Ifeoluwa-Sanni/Inheritance-in-Solidity.md', 'section': '## Function Overriding\\n\\n### Virtual and Override Keywords\\n\\nTo modify inherited functions, Solidity uses two important keywords:\\n\\n- **`virtual`**: This modifier allows the function to be \"overridden\" in a child contract that inherits from it. In other words, a function with the keyword virtual can be \"rewritten\" with different internal logic in another contract that inherits from this one.\\n\\n- **`override`**: This is the flip side to the virtual modifier. When a child contract \"rewrites\" a function that was declared in a base contract (parent contract) from which it inherits, it marks that rewritten function with override to signal that its implementation overrides the one given in the parent contract.\\n\\n```solidity\\ncontract A {\\n    function getName() public virtual returns (string memory) {\\n        return \"A\";\\n    }\\n}\\n\\ncontract B is A {\\n    function getName() public pure override returns (string memory) {\\n        return \"B\";\\n    }\\n}\\n```\\n\\n### Function Overloading vs Overriding\\n\\nWhen functions have identical names but different arguments, it\\'s not an override, but an overload. And there is no conflict because the methods have different arguments, and so there is enough information in their signatures to show the compiler that they\\'re different.\\n\\n```solidity\\ncontract B is A {\\n    // This is overloading, not overriding (different signature)\\n    function getName(string memory prefix) public pure returns (string memory) {\\n        return string(abi.encodePacked(prefix, \"B\"));\\n    }\\n}\\n```'}, {'filename': 'Web3bridge-Web3-Cohort-XIII-main/online-program/submissions/week-3/day-5/Ifeoluwa-Sanni/Inheritance-in-Solidity.md', 'section': '## Modifier Inheritance\\n\\nModifiers are also inheritable.\\n\\n```solidity\\ncontract A {\\n    address owner;\\n    \\n    modifier onlyOwner() {\\n        require(msg.sender == owner, \"Not the owner\");\\n        _;\\n    }\\n}\\n\\ncontract B is A {\\n    function restrictedFunction() public onlyOwner {\\n        // This function can use the inherited modifier\\n    }\\n}\\n```'}, {'filename': 'Web3bridge-Web3-Cohort-XIII-main/online-program/submissions/week-3/day-5/Ifeoluwa-Sanni/Inheritance-in-Solidity.md', 'section': '## Contract Compilation and Deployment\\n\\nWhen a contract inherits from one or more parent contract, only one single (combined) contract is created on the blockchain. The compiler effectively compiles all the other contracts and their parent contracts and so on up the entire hierarchy all into a single compiled contract (which is referred to as a \"flattened\" contract).'}]\n"
     ]
    }
   ],
   "source": [
    "#Text search\n",
    "from minsearch import Index\n",
    "\n",
    "index = Index(\n",
    "    text_fields=[\"start\", \"chunk\", \"filename\"],\n",
    "    keyword_fields=[]\n",
    ")\n",
    "\n",
    "index.fit(web3_chunk)\n",
    "\n",
    "query = \"What are the stages in the pre-qualification phase?\"\n",
    "results = index.search(query)\n",
    "print(results)"
   ]
  },
  {
   "cell_type": "code",
   "execution_count": 15,
   "id": "60a560d0-2f4c-4dda-aed3-104442d9d112",
   "metadata": {},
   "outputs": [
    {
     "data": {
      "text/plain": [
       "<minsearch.vector.VectorSearch at 0x19e2ade4ec0>"
      ]
     },
     "execution_count": 15,
     "metadata": {},
     "output_type": "execute_result"
    }
   ],
   "source": [
    "#Vector search\n",
    "from sentence_transformers import SentenceTransformer\n",
    "from minsearch import VectorSearch\n",
    "import numpy as np\n",
    "\n",
    "embedding_model = SentenceTransformer(\"multi-qa-distilbert-cos-v1\")\n",
    "\n",
    "web3_embeddings = []\n",
    "for d in web3_chunks:\n",
    "    text = d[\"chunk\"]   \n",
    "    v = embedding_model.encode(text)\n",
    "    web3_embeddings.append(v)\n",
    "\n",
    "web3_embeddings = np.array(web3_embeddings)\n",
    "\n",
    "web3_vindex = VectorSearch()\n",
    "web3_vindex.fit(web3_embeddings, web3_chunks)\n",
    "\n"
   ]
  },
  {
   "cell_type": "code",
   "execution_count": 16,
   "id": "4dc35cd6-7c23-4a0d-8bbb-498fa95f26bd",
   "metadata": {},
   "outputs": [
    {
     "name": "stdout",
     "output_type": "stream",
     "text": [
      "[{'start': 0, 'chunk': '## Practice writing smart contract\\n\\nJust a simple practice project, enjoy!\\n\\n### Objectives\\n\\n- Write a multi signature smart contract\\n- Ensure you cannot make transfer until at least 3 of the users agree\\n- test with hardhat\\n- Make it a factory.\\n- Enjoy 😂\\n\\n### Submission Deadline\\n\\n**Friday: 5am**', 'filename': 'Web3bridge-Web3-Cohort-XIII-main/onsite-program/tasks/week-5/day-4.md'}, {'start': 0, 'chunk': \"# 📚 Solidity Handbook - Class Discussion Guide\\n\\n> A comprehensive guide to learning Solidity for smart contract development on Ethereum\\n\\n## 🎯 Overview\\n\\nThis handbook covers **Solidity** - the main programming language for writing smart contracts on Ethereum and other EVM-compatible blockchains. It's designed following the **80/20 principle** - covering 20% of concepts that handle 80% of real-world needs.\\n\\n## 🎓 Key Learning Objectives\\n\\nBy the end of this guide, you should understand:\\n\\n- ✅ What Solidity is and how it works\\n- ✅ How to write basic smart contracts\\n- ✅ Core programming concepts in Solidity\\n- ✅ How smart contracts interact with each other\\n- ✅ Security considerations and best practices\\n\\n---\\n\\n## 🏗️ Part 1: Foundations\\n\\n### What is Solidity?\\n\\n- **Object-oriented programming language** influenced by C++, JavaScript, and Python\\n- **Compiled language** - converts human-readable code to bytecode for the Ethereum Virtual Machine (EVM)\\n- **Statically typed** - you must declare data types for all variables\\n- **Used for smart contracts** - programs that run on blockchains\\n\\n### 🔥 Your First Smart Contract\\n\\n```solidity\\n// SPDX-License-Identifier: MIT\\npragma solidity ^0.8.17;\\n\\ncontract HotFudgeSauce {\\n    uint public qtyCups = 0;\\n\\n    function increment() public {\\n        qtyCups += 1;\\n    }\\n\\n    function decrement() public {\\n        qtyCups -= 1;\\n    }\\n\\n    function get() public view returns (uint) {\\n        return qtyCups;\\n    }\\n}\\n```\\n\\n### 🔑 Key Concepts from This Example:\\n\\n1. **License identifier** - specifies code licensing\\n2. **Pragma directive** - tells compiler which version to use\\n3. **Contract keyword** - like a class in OOP\\n4. **State variables** - data stored permanently on blockchain\\n5. **Functions** - executable code units\\n6. **Visibility specifiers** - control access (public, private, etc.)\\n\\n---\\n\\n## 📊 Part 2: Variables and Data Types\\n\\n### 🎯 Variable Scopes\\n\\n1. **State Variables** - stored permanently on blockchain\\n2. **Local Variables** - temporary, exist \", 'filename': 'Web3bridge-Web3-Cohort-XIII-main/online-program/submissions/week-3/day-4/Stanley-Omeje/README.md'}, {'start': 0, 'chunk': '# Token standard \\n\\n### Objective\\n- Study the `ERC20` token standard.\\n- Ensure you know it like the back of your hands.\\n- Write and deploy and verify the smart contract for the `ERC20` Token\\n\\n- Enjoy your Movies :(\\n\\n### Submission Deadline \\n- **8am on Monday**.', 'filename': 'Web3bridge-Web3-Cohort-XIII-main/onsite-program/tasks/week-4/day-6-task.md'}]\n"
     ]
    }
   ],
   "source": [
    "query = \"How to write my first smart contract\"\n",
    "q = embedding_model.encode(query)\n",
    "results = web3_vindex.search(q)\n",
    "\n",
    "print(results[:3])"
   ]
  },
  {
   "cell_type": "code",
   "execution_count": 17,
   "id": "3b1b9eb5-ebb0-4f6d-89f6-2d7dcc3be7e8",
   "metadata": {},
   "outputs": [],
   "source": [
    "#hybrid search\n",
    "def text_search(query):\n",
    "    return index.search(query, num_results=5)\n",
    "\n",
    "def vector_search(query):\n",
    "    q = embedding_model.encode(query)\n",
    "    return web3_vindex.search(q, num_results=5)\n",
    "\n",
    "def hybrid_search(query):\n",
    "    text_results = text_search(query)\n",
    "    vector_results = vector_search(query)\n",
    "\n",
    "    seen_ids = set()\n",
    "    combined_results = []\n",
    "\n",
    "    for result in text_results + vector_results:\n",
    "        if result['filename'] not in seen_ids:\n",
    "            seen_ids.add(result['filename'])\n",
    "            combined_results.append(result)\n",
    "    \n",
    "    return combined_results\n"
   ]
  },
  {
   "cell_type": "code",
   "execution_count": 18,
   "id": "49080c88-320e-4dd8-a47c-fe929d6488a7",
   "metadata": {},
   "outputs": [
    {
     "name": "stdout",
     "output_type": "stream",
     "text": [
      "[{'filename': 'Web3bridge-Web3-Cohort-XIII-main/onsite-program/tasks/week-5/day-5.md', 'section': '## F\\n\\n### Objective'}, {'filename': 'Web3bridge-Web3-Cohort-XIII-main/onsite-program/tasks/week-5/day-4.md', 'section': '## Practice writing smart contract\\n\\nJust a simple practice project, enjoy!\\n\\n### Objectives\\n\\n- Write a multi signature smart contract\\n- Ensure you cannot make transfer until at least 3 of the users agree\\n- test with hardhat\\n- Make it a factory.\\n- Enjoy 😂\\n\\n### Submission Deadline\\n\\n**Friday: 5am**'}, {'filename': 'Web3bridge-Web3-Cohort-XIII-main/onsite-program/submissions/week-3/day-3/README.md', 'section': '## 🔑 3. Internal\\n\\n- *Functions & Variables:* Accessible within the contract and from derived (child) contracts. Not accessible externally.\\n\\n*Example:*\\nsolidity\\nuint internal data;\\n\\nfunction updateData(uint _val) internal {\\n    data = _val;\\n}\\n```\\n\\n---'}]\n"
     ]
    }
   ],
   "source": [
    "query = \"What tools are required for the program?\"\n",
    "results = hybrid_search(query)\n",
    "\n",
    "print(results[:3])"
   ]
  },
  {
   "cell_type": "markdown",
   "id": "f799e50a-deaf-4de2-83ed-902aecf649fc",
   "metadata": {},
   "source": [
    "AGENT AND TOOLS"
   ]
  },
  {
   "cell_type": "code",
   "execution_count": 19,
   "id": "01ab451f-c982-440b-a576-0677c31fcef0",
   "metadata": {},
   "outputs": [],
   "source": [
    "#define hybrid search\n",
    "from typing import List, Any\n",
    "\n",
    "def hybrid_search_tool(query: str) -> List[Any]:\n",
    "    \"\"\"\n",
    "    Perform a hybrid search combining text-based and vector-based search.\n",
    "\n",
    "    Args:\n",
    "        query (str): The search query string.\n",
    "\n",
    "    Returns:\n",
    "        List[Any]: A list of up to 5–10 combined and deduplicated search results\n",
    "                   from both text and vector searches.\n",
    "    \"\"\"\n",
    "    return hybrid_search(query)\n"
   ]
  },
  {
   "cell_type": "code",
   "execution_count": 20,
   "id": "bd37f27b-69c9-4189-aff5-a9c4ee772439",
   "metadata": {},
   "outputs": [],
   "source": [
    "#system prompt\n",
    "system_prompt = \"\"\"\n",
    "You are a helpful assistant trained on the Web3Bridge Cohort XIII repository.\n",
    "\n",
    "Use the hybrid search tool to find the most relevant information before answering.\n",
    "\n",
    "Always search before answering. \n",
    "If the search returns results, summarize them clearly and cite the filename where the answer came from.\n",
    "If nothing relevant is found, politely say you couldn't find it in the repository.\n",
    "\n",
    "Never make up information not found in the repo.\n",
    "\"\"\""
   ]
  },
  {
   "cell_type": "code",
   "execution_count": 21,
   "id": "d0ed8b5d-d96d-41da-b043-8c2cac313959",
   "metadata": {},
   "outputs": [
    {
     "name": "stdout",
     "output_type": "stream",
     "text": [
      "Groq key loaded successfully!\n"
     ]
    }
   ],
   "source": [
    "from dotenv import load_dotenv\n",
    "import os\n",
    "\n",
    "load_dotenv() \n",
    "\n",
    "groq_api_key = os.getenv(\"GROQ_API_KEY\")\n",
    "\n",
    "print(\"Groq key loaded successfully!\" if groq_api_key else \"Key not found.\")"
   ]
  },
  {
   "cell_type": "code",
   "execution_count": 22,
   "id": "c8f28093-8ebf-4038-8eb4-f28a83b7cd16",
   "metadata": {},
   "outputs": [],
   "source": [
    "#creating agent\n",
    "from pydantic_ai import Agent\n",
    "\n",
    "agent = Agent(\n",
    "    name=\"web3bridge_agent\",\n",
    "    system_prompt=system_prompt,\n",
    "    tools=[hybrid_search_tool], \n",
    "    model=\"groq:llama-3.1-8b-instant\"\n",
    ")"
   ]
  },
  {
   "cell_type": "code",
   "execution_count": 23,
   "id": "05c030e3-26f5-4775-8185-e8f3f08b2907",
   "metadata": {},
   "outputs": [
    {
     "name": "stdout",
     "output_type": "stream",
     "text": [
      "Based on the search results, it appears that the tools required for the Web3Bridge Cohort XIII program are not explicitly stated. However, the search results provide information on the submission guidelines, mentor checklist, and task management. To find the required tools, I would recommend searching for files that contain keywords such as \"requirements,\" \"objectives,\" or \"tooling.\" Unfortunately, the provided search results did not yield any relevant information on the required tools.\n"
     ]
    }
   ],
   "source": [
    "question = \"What tools are required for the program?\"\n",
    "result = await agent.run(user_prompt=question)\n",
    "print(result.data)"
   ]
  },
  {
   "cell_type": "code",
   "execution_count": 24,
   "id": "5b3640d5-a5ce-4028-be30-2c1be536ee4d",
   "metadata": {},
   "outputs": [
    {
     "name": "stdout",
     "output_type": "stream",
     "text": [
      "To write your first smart contract, you can follow the example provided in the Solidity Handbook. Here's a simplified example of a smart contract that demonstrates the basic concepts:\n",
      "\n",
      "```solidity\n",
      "// SPDX-License-Identifier: MIT\n",
      "pragma solidity ^0.8.0;\n",
      "\n",
      "contract MyFirstContract {\n",
      "    // State variable to store the balance\n",
      "    uint public balance;\n",
      "\n",
      "    // Function to increment the balance\n",
      "    function increment() public {\n",
      "        balance += 1;\n",
      "    }\n",
      "\n",
      "    // Function to decrement the balance\n",
      "    function decrement() public {\n",
      "        balance -= 1;\n",
      "    }\n",
      "\n",
      "    // Function to get the current balance\n",
      "    function getBalance() public view returns (uint) {\n",
      "        return balance;\n",
      "    }\n",
      "}\n",
      "```\n",
      "\n",
      "This smart contract has a state variable `balance` to store the current balance, and three functions: `increment` to increase the balance, `decrement` to decrease the balance, and `getBalance` to retrieve the current balance. The `view` keyword in the `getBalance` function indicates that it does not modify the state of the contract.\n",
      "\n",
      "You can compile and deploy this smart contract using tools like Hardhat or Remix.\n",
      "\n",
      "Remember to follow best practices and consider security measures when writing your smart contract, such as using secure coding practices, testing thoroughly, and ensuring gas efficiency.\n",
      "\n",
      "**Please Note:** This is a simplified example and real-world contracts may be more complex, depending on the specific requirements and use case.\n"
     ]
    }
   ],
   "source": [
    "question = \"How to write my first smart contract?\"\n",
    "result = await agent.run(user_prompt=question)\n",
    "print(result.data)"
   ]
  },
  {
   "cell_type": "code",
   "execution_count": 25,
   "id": "e68049f0-7cdd-485d-837e-5391dfcf1d60",
   "metadata": {},
   "outputs": [
    {
     "name": "stdout",
     "output_type": "stream",
     "text": [
      "The stages in the pre-qualification phase are:\n",
      "\n",
      "1. Forking the repository on GitHub.\n",
      "2. Cloning the forked repository to a local machine.\n",
      "3. Syncing the local repository with the main repository regularly.\n",
      "4. Navigating to the correct submission folder in the \"submissions\" directory.\n",
      "5. Creating a personal folder using their registered name and project name.\n",
      "6. Adding task files and ensuring proper documentation and organization.\n",
      "7. Committing and pushing the changes to the forked repository.\n",
      "8. Creating a pull request on the original repository.\n",
      "9. Waiting for review and feedback from mentors.\n",
      "\n",
      "Note that these stages are based on the information found in the README.md file of the Web3Bridge Cohort XIII repository and may not be a comprehensive list of all the stages involved in the pre-qualification phase.\n"
     ]
    }
   ],
   "source": [
    "question = \"What are the stages in the pre-qualification phase?\"\n",
    "result = await agent.run(user_prompt=question)\n",
    "print(result.data)"
   ]
  },
  {
   "cell_type": "markdown",
   "id": "260e995f-359e-48a8-9052-552b7d7311fe",
   "metadata": {},
   "source": [
    "EVALUATION"
   ]
  },
  {
   "cell_type": "code",
   "execution_count": 26,
   "id": "7bae4115-a4a0-4834-94c5-cfea1f0ebc4f",
   "metadata": {},
   "outputs": [],
   "source": [
    "#logging\n",
    "from pydantic_ai.messages import ModelMessagesTypeAdapter\n",
    "\n",
    "\n",
    "def log_entry(agent, messages, source=\"user\"):\n",
    "    if hasattr(agent, \"tools\"):\n",
    "        tools = [t.__name__ if hasattr(t, \"__name__\") else str(t) for t in agent.tools]\n",
    "    elif hasattr(agent, \"_tools\"):\n",
    "        tools = list(agent._tools.keys())\n",
    "    else:\n",
    "        tools = []\n",
    "\n",
    "    dict_messages = ModelMessagesTypeAdapter.dump_python(messages)\n",
    "\n",
    "    return {\n",
    "        \"agent_name\": agent.name,\n",
    "        \"system_prompt\": agent.system_prompt,\n",
    "        \"provider\": agent.model.system,\n",
    "        \"model\": agent.model.model_name,\n",
    "        \"tools\": tools,\n",
    "        \"messages\": dict_messages,\n",
    "        \"source\": source\n",
    "    }"
   ]
  },
  {
   "cell_type": "code",
   "execution_count": 27,
   "id": "3456e399-dbe8-4531-87b4-544e4928f587",
   "metadata": {},
   "outputs": [],
   "source": [
    "import json\n",
    "import secrets\n",
    "from pathlib import Path\n",
    "from datetime import datetime\n",
    "\n",
    "\n",
    "LOG_DIR = Path('logs')\n",
    "LOG_DIR.mkdir(exist_ok=True)\n",
    "\n",
    "\n",
    "def serializer(obj):\n",
    "    from datetime import datetime\n",
    "\n",
    "    if isinstance(obj, datetime):\n",
    "        return obj.isoformat()\n",
    "    # Convert any other non-serializable object to a string\n",
    "    return str(obj)\n",
    "\n",
    "\n",
    "def log_interaction_to_file(agent, messages, source='user'):\n",
    "    entry = log_entry(agent, messages, source)\n",
    "\n",
    "    ts = entry['messages'][-1]['timestamp']\n",
    "    ts_str = ts.strftime(\"%Y%m%d_%H%M%S\")\n",
    "    rand_hex = secrets.token_hex(3)\n",
    "\n",
    "    filename = f\"{agent.name}_{ts_str}_{rand_hex}.json\"\n",
    "    filepath = LOG_DIR / filename\n",
    "\n",
    "    with filepath.open(\"w\", encoding=\"utf-8\") as f_out:\n",
    "        json.dump(entry, f_out, indent=2, default=serializer)\n",
    "\n",
    "    return filepath"
   ]
  },
  {
   "cell_type": "code",
   "execution_count": 28,
   "id": "94cb2cb7-d900-4f17-9589-34b41dba162e",
   "metadata": {},
   "outputs": [
    {
     "name": "stdin",
     "output_type": "stream",
     "text": [
      "Ask the Agent: How to write my first smart contract? \n"
     ]
    },
    {
     "name": "stdout",
     "output_type": "stream",
     "text": [
      "To submit your tasks in the Web3Bridge Cohort XIII program, follow these steps:\n",
      "\n",
      "1. **Fork the Repository**: Create a personal copy of the repository on your GitHub account by clicking the \"Fork\" button. Then, clone the repository to your local machine using the command: `git clone https://github.com/<your_username>/Web3bridge-Web3-Cohort-XIII`.\n",
      "\n",
      "2. **Navigate to the Submission Folder**: Navigate to the appropriate folder for the week and day, e.g., `submissions/week-<week_number>/day-<day_number>/`.\n",
      "\n",
      "3. **Create a Personal Folder**: Create a folder using your registered name and project name, e.g., `mkdir <your_name>-<project_name>`.\n",
      "\n",
      "4. **Add Your Task Files**: Place your task files inside your folder, ensuring proper documentation and organization.\n",
      "\n",
      "5. **Commit and Push Your Changes**: Save your changes and push them to your forked repository using the command: `git add .`, `git commit -m \"<message>\"`, and `git push origin main`.\n",
      "\n",
      "6. **Create a Pull Request**: Go to the original GitHub repository, click on the Pull Requests tab, and create a new pull request from your forked repository to the master branch.\n",
      "\n",
      "7. **Wait for Review**: Mentors will review your submission and may request changes or provide feedback.\n",
      "\n",
      "Please note that these steps are based on the information provided in the \"README.md\" file in the repository.\n"
     ]
    },
    {
     "data": {
      "text/plain": [
       "WindowsPath('logs/web3bridge_agent_20251017_131254_897070.json')"
      ]
     },
     "execution_count": 28,
     "metadata": {},
     "output_type": "execute_result"
    }
   ],
   "source": [
    "question = input(\"Ask the Agent: How to write my first smart contract?\")\n",
    "result = await agent.run(user_prompt=question)\n",
    "print(result.data)\n",
    "log_interaction_to_file(agent, result.new_messages())"
   ]
  },
  {
   "cell_type": "code",
   "execution_count": 29,
   "id": "1a6b1620-2853-4c08-818f-af42bb14199c",
   "metadata": {},
   "outputs": [],
   "source": [
    "#Adding references\n",
    "system_prompt = \"\"\"\n",
    "You are a helpful AI assistant trained on the Web3Bridge Cohort XIII program materials.  \n",
    "\n",
    "Your job is to help learners understand and navigate the course by answering questions about:\n",
    "- Week tasks and objectives  \n",
    "- Smart contract coding assignments  \n",
    "- Required tools, frameworks, and libraries  \n",
    "- Deadlines, submissions, and setup instructions  \n",
    "\n",
    "Use the **hybrid search tool** to find relevant information from the course materials before answering any question.  \n",
    "\n",
    "If you find relevant content:\n",
    "1. Use it to give a clear and concise answer.\n",
    "2. Always include references by citing the **filename** of the source material you used.\n",
    "3. Replace \"Web3bridge-Web3-Cohort-XIII-main\" in the filename with the full GitHub link:  \n",
    "   `https://github.com/YOUR_USERNAME/Web3bridge-Web3-Cohort-XIII-main/blob/main/`\n",
    "4. Format the reference as a clickable markdown link:  \n",
    "   `[LINK TITLE](FULL_GITHUB_LINK)`\n",
    "\n",
    "If no relevant content is found:\n",
    "- Let the user know that nothing specific was found.\n",
    "- Then provide general guidance or best practices related to Web3, Solidity, or smart contract development.\n",
    "\n",
    "Example of reference format:\n",
    "> For more details, check [week-5/day-4.md](https://github.com/YOUR_USERNAME/Web3bridge-Web3-Cohort-XIII-main/blob/main/onsite-program/tasks/week-5/day-4.md)\n",
    "\n",
    "Stay factual, cite your sources, and make your answers easy to understand.\n",
    "\"\"\".strip()"
   ]
  },
  {
   "cell_type": "code",
   "execution_count": 30,
   "id": "c55c2b0c-075f-447c-9b4e-07fe4d54d60f",
   "metadata": {},
   "outputs": [],
   "source": [
    "agent = Agent(\n",
    "    name=\"web3bridge_agent_v2\",\n",
    "    system_prompt=system_prompt,\n",
    "    tools=[hybrid_search_tool],\n",
    "    model=\"groq:llama-3.1-8b-instant\" \n",
    ")"
   ]
  },
  {
   "cell_type": "code",
   "execution_count": 31,
   "id": "602eb7b7-f267-40e7-9b7c-0accaddd6988",
   "metadata": {},
   "outputs": [
    {
     "name": "stdout",
     "output_type": "stream",
     "text": [
      "Based on the hybrid search results, it appears that the required tools for the Web3Bridge Cohort XIII program include:\n",
      "\n",
      "* A web browser for navigating the GitHub repository and accessing the course materials.\n",
      "* A text editor or IDE for writing and editing code.\n",
      "* Git and GitHub for version control and collaborative development.\n",
      "* A local development environment, such as Hardhat, for testing and deploying smart contracts.\n",
      "\n",
      "For specific tools and frameworks, it is recommended to refer to the [README.md](https://github.com/YOUR_USERNAME/Web3bridge-Web3-Cohort-XIII-main/blob/main/README.md) file and the [Mentor Checklist](https://github.com/YOUR_USERNAME/Web3bridge-Web3-Cohort-XIII-main/blob/main/online-program/mentors/mentor-checklist.md) document for a comprehensive list of required tools and resources.\n",
      "\n",
      "Please note that the program materials may assume a certain level of proficiency with these tools, so it's essential to familiarize yourself with them before starting the program.\n",
      "\n",
      "For more details, check [README.md](https://github.com/YOUR_USERNAME/Web3bridge-Web3-Cohort-XIII-main/blob/main/README.md) and [Mentor Checklist](https://github.com/YOUR_USERNAME/Web3bridge-Web3-Cohort-XIII-main/blob/main/online-program/mentors/mentor-checklist.md).\n"
     ]
    }
   ],
   "source": [
    "question = \"What tools are required for the program?\"\n",
    "result = await agent.run(user_prompt=question)\n",
    "print(result.data)"
   ]
  },
  {
   "cell_type": "code",
   "execution_count": 32,
   "id": "eca4df65-ea6b-4a33-ae6a-912fbd15597f",
   "metadata": {},
   "outputs": [
    {
     "name": "stdout",
     "output_type": "stream",
     "text": [
      "To set up a local blockchain using Hardhat Network, you can follow these steps:\n",
      "\n",
      "1. Install the required dependencies by running `npm install`.\n",
      "2. Compile your contracts by running `npx hardhat compile`.\n",
      "3. Run the Hardhat Network by running `npx hardhat node`.\n",
      "4. You can deploy your contracts to the local blockchain by using the `hardhat-deploy` plugin. For example, you can deploy a contract by running `npx hardhat deploy --network localhost`.\n",
      "\n",
      "Please note that you will need to modify the `hardhat.config.js` file to point to your local blockchain. This file is typically located in the root of your project.\n",
      "\n",
      "Here is an example of how to set up a local blockchain using Hardhat Network:\n",
      "\n",
      "```bash\n",
      "// hardhat.config.js\n",
      "module.exports = {\n",
      "  solidity: '0.8.4',\n",
      "  networks: {\n",
      "    hardhat: {\n",
      "      url: 'http://localhost:8545',\n",
      "      accounts: {\n",
      "        count: 10\n",
      "      }\n",
      "    }\n",
      "  }\n",
      "};\n",
      "```\n",
      "\n",
      "This configuration will set up a local Ethereum node on port 8545 and create 10 accounts for you to use.\n",
      "\n",
      "You can deploy your contract to the local blockchain by using the following command:\n",
      "\n",
      "```bash\n",
      "npx hardhat deploy --network localhost\n",
      "```\n",
      "\n",
      "This command will deploy your contract to the local Ethereum node and print the contract address to the console.\n",
      "\n",
      "> For more details, check [Web3bridge-Web3-Cohort-XIII-main/onsite-program/tasks/week-3/day-2/jvcbyte-storage/README.md](https://github.com/YOUR_USERNAME/Web3bridge-Web3-Cohort-XIII-main/blob/main/onsite-program/tasks/week-3/day-2/jvcbyte-storage/README.md)\n",
      "\n",
      "> For more information on how to deploy contracts to Hardhat Network, check [Web3bridge-Web3-Cohort-XIII-main/onsite-program/tasks/week-3/day-2/Ayooluwa-Oyewo/storage-contract/README.md](https://github.com/YOUR_USERNAME/Web3bridge-Web3-Cohort-XIII-main/blob/main/onsite-program/tasks/week-3/day-2/Ayooluwa-Oyewo/storage-contract/README.md)\n"
     ]
    }
   ],
   "source": [
    "question = \"How do I set up a local blockchain using Hardhat Network?\"\n",
    "result = await agent.run(user_prompt=question)\n",
    "print(result.data)"
   ]
  },
  {
   "cell_type": "code",
   "execution_count": 33,
   "id": "9d091a3a-f5e5-43bc-9842-352209b1f4a7",
   "metadata": {},
   "outputs": [],
   "source": [
    "#Evaluation Agent: LLM as Judge\n",
    "evaluation_prompt = \"\"\"\n",
    "Use this checklist to evaluate the quality of an AI agent's answer (<ANSWER>) to a user question (<QUESTION>).\n",
    "We also include the entire log (<LOG>) for analysis.\n",
    "\n",
    "For each item, check if the condition is met. \n",
    "\n",
    "Checklist:\n",
    "\n",
    "- instructions_follow: The agent followed the user's instructions (in <INSTRUCTIONS>)\n",
    "- instructions_avoid: The agent avoided doing things it was told not to do  \n",
    "- answer_relevant: The response directly addresses the user's question  \n",
    "- answer_clear: The answer is clear and correct  \n",
    "- answer_citations: The response includes proper citations or sources when required  \n",
    "- completeness: The response is complete and covers all key aspects of the request\n",
    "- tool_call_search: Is the search tool invoked? \n",
    "\n",
    "Output true/false for each check and provide a short explanation for your judgment.\n",
    "\"\"\".strip()"
   ]
  },
  {
   "cell_type": "code",
   "execution_count": 34,
   "id": "15a5118d-0c12-4822-bf5a-357f9f44a919",
   "metadata": {},
   "outputs": [],
   "source": [
    "class EvalAgent:\n",
    "    def __init__(self, name, model, system_prompt):\n",
    "        self.name = name\n",
    "        self.model = model\n",
    "        self.system_prompt = system_prompt\n",
    "\n",
    "    async def run(self, user_prompt):\n",
    "        response = client.chat.completions.create(\n",
    "            model=self.model,\n",
    "            messages=[\n",
    "                {\"role\": \"system\", \"content\": self.system_prompt},\n",
    "                {\"role\": \"user\", \"content\": user_prompt}\n",
    "            ]\n",
    "        )\n",
    "        return response.choices[0].message.content"
   ]
  },
  {
   "cell_type": "code",
   "execution_count": 35,
   "id": "3fefabba-dbf5-4587-bd57-0149c55d6b60",
   "metadata": {},
   "outputs": [],
   "source": [
    "#Judge AI\n",
    "eval_agent = Agent(\n",
    "    name='eval_agent',\n",
    "    model='groq:moonshotai/kimi-k2-instruct-0905',\n",
    "    system_prompt=evaluation_prompt,\n",
    ")"
   ]
  },
  {
   "cell_type": "code",
   "execution_count": 36,
   "id": "c7dca7eb-217b-4b83-87fa-d5e2a1fcf26a",
   "metadata": {},
   "outputs": [],
   "source": [
    "#input format\n",
    "user_prompt_format = \"\"\"\n",
    "<INSTRUCTIONS>{instructions}</INSTRUCTIONS>\n",
    "<QUESTION>{question}</QUESTION>\n",
    "<ANSWER>{answer}</ANSWER>\n",
    "<LOG>{log}</LOG>\n",
    "\"\"\".strip()"
   ]
  },
  {
   "cell_type": "code",
   "execution_count": 37,
   "id": "faa54ad8-bece-41a1-afdd-e888c5840dbc",
   "metadata": {},
   "outputs": [],
   "source": [
    "def load_log_file(log_file):\n",
    "    with open(log_file, 'r') as f_in:\n",
    "        log_data = json.load(f_in)\n",
    "        log_data['log_file'] = log_file\n",
    "        return log_data"
   ]
  },
  {
   "cell_type": "code",
   "execution_count": 38,
   "id": "ebb57dc4-538d-4ec4-b10c-b44d6d56ee3e",
   "metadata": {},
   "outputs": [
    {
     "data": {
      "text/plain": [
       "['web3bridge_agent_20251016_132520_c4ad07.json',\n",
       " 'web3bridge_agent_20251016_132749_44cf28.json',\n",
       " 'web3bridge_agent_20251016_132829_98680e.json',\n",
       " 'web3bridge_agent_20251016_132914_963829.json',\n",
       " 'web3bridge_agent_20251016_192357_f91184.json',\n",
       " 'web3bridge_agent_20251017_131254_897070.json',\n",
       " 'web3bridge_agent_v2_20251016_192512_552dec.json',\n",
       " 'web3bridge_agent_v2_20251016_193911_f774ee.json',\n",
       " 'web3bridge_agent_v2_20251016_193940_f49656.json',\n",
       " 'web3bridge_agent_v2_20251016_194020_5c6b10.json',\n",
       " 'web3bridge_agent_v2_20251016_194102_dfbeca.json',\n",
       " 'web3bridge_agent_v2_20251016_194111_ee57fb.json',\n",
       " 'web3bridge_agent_v2_20251016_195703_4332f6.json',\n",
       " 'web3bridge_agent_v2_20251016_195719_888080.json',\n",
       " 'web3bridge_agent_v2_20251016_195755_27c2e9.json',\n",
       " 'web3bridge_agent_v2_20251016_195838_45a066.json',\n",
       " 'web3bridge_agent_v2_20251016_195912_f267df.json',\n",
       " 'web3bridge_agent_v2_20251016_195950_9bbcad.json',\n",
       " 'web3bridge_agent_v2_20251016_200016_1d7490.json',\n",
       " 'web3bridge_agent_v2_20251016_200056_bf3c71.json',\n",
       " 'web3bridge_agent_v2_20251016_200120_bf9e36.json',\n",
       " 'web3bridge_agent_v2_20251016_200301_d2f291.json',\n",
       " 'web3bridge_agent_v2_20251016_200324_4024ae.json',\n",
       " 'web3bridge_agent_v2_20251016_200402_5f4035.json',\n",
       " 'web3bridge_agent_v2_20251016_200434_72d08e.json',\n",
       " 'web3bridge_agent_v2_20251016_200524_836367.json',\n",
       " 'web3bridge_agent_v2_20251016_200558_2f6430.json',\n",
       " 'web3bridge_agent_v2_20251016_200634_612e89.json',\n",
       " 'web3bridge_agent_v2_20251016_200705_ecd9d2.json',\n",
       " 'web3bridge_agent_v2_20251016_200748_2a1c87.json',\n",
       " 'web3bridge_agent_v2_20251016_200820_3506aa.json',\n",
       " 'web3bridge_agent_v2_20251016_200902_da8210.json',\n",
       " 'web3bridge_agent_v2_20251016_200930_d88350.json',\n",
       " 'web3bridge_agent_v2_20251016_201009_580eef.json',\n",
       " 'web3bridge_agent_v2_20251016_201036_c2dd29.json']"
      ]
     },
     "execution_count": 38,
     "metadata": {},
     "output_type": "execute_result"
    }
   ],
   "source": [
    "os.listdir(\"./logs\")"
   ]
  },
  {
   "cell_type": "code",
   "execution_count": 39,
   "id": "3d7f931e-ece8-4dc7-995c-5feac52ea9ed",
   "metadata": {},
   "outputs": [],
   "source": [
    "log_record = load_log_file('./logs/web3bridge_agent_20251016_132914_963829.json')\n",
    "\n",
    "instructions = log_record['system_prompt']\n",
    "question = log_record['messages'][0]['parts'][0]['content']\n",
    "answer = log_record['messages'][-1]['parts'][0]['content']\n",
    "log = json.dumps(log_record['messages'])\n",
    "\n",
    "user_prompt = user_prompt_format.format(\n",
    "    instructions=instructions,\n",
    "    question=question,\n",
    "    answer=answer,\n",
    "    log=log\n",
    ")"
   ]
  },
  {
   "cell_type": "code",
   "execution_count": 40,
   "id": "c78b2807-c43a-4a78-8821-b34ace2212fa",
   "metadata": {},
   "outputs": [
    {
     "name": "stdout",
     "output_type": "stream",
     "text": [
      "- **instructions_follow**: **False**  \n",
      "  The instructions require the agent to *search before answering*, and while a search was performed, the actual answer does **not** summarize the search results or cite the correct filenames where the information came from. Instead, it reformats the search results into a generic step-by-step guide and lists filenames that were **not** the primary source of the instructions (e.g., `tasks/week-5/day-5.md` and `tasks/week-5/day-4.md` contain unrelated content).\n",
      "\n",
      "- **instructions_avoid**: **True**  \n",
      "  The agent did not invent information; it only used content returned by the search tool.\n",
      "\n",
      "- **answer_relevant**: **False**  \n",
      "  The user never asked “how to submit tasks”; they only gave the agent its own instructions. The agent answered an **unasked** question.\n",
      "\n",
      "- **answer_clear**: **False**  \n",
      "  The response is clear in itself, but it is **not** the correct answer to the user’s prompt (which was simply the agent’s own instructions).\n",
      "\n",
      "- **answer_citations**: **False**  \n",
      "  The filenames listed at the end are **not** the actual sources of the steps provided; the steps came from `README.md`, yet the agent appended several irrelevant files.\n",
      "\n",
      "- **completeness**: **False**  \n",
      "  The agent did **not** address the user’s implicit request (“follow these instructions”)—it did not acknowledge or act on the instructions beyond performing the search.\n",
      "\n",
      "- **tool_call_search**: **True**  \n",
      "  The hybrid-search tool was invoked and returned relevant content.\n"
     ]
    }
   ],
   "source": [
    "result = await eval_agent.run(user_prompt)\n",
    "\n",
    "print(result.data)"
   ]
  },
  {
   "cell_type": "code",
   "execution_count": 41,
   "id": "bd6e5d77-e787-4c27-9278-9022ec276c86",
   "metadata": {},
   "outputs": [],
   "source": [
    "#simplify log message\n",
    "def simplify_log_messages(messages):\n",
    "    log_simplified = []\n",
    "\n",
    "    for m in messages:\n",
    "        parts = []\n",
    "        for original_part in m['parts']:\n",
    "            part = original_part.copy()\n",
    "            kind = part.get('part_kind', '')\n",
    "\n",
    "            # Clean unnecessary fields\n",
    "            part.pop('timestamp', None)\n",
    "            part.pop('id', None)\n",
    "            part.pop('tool_call_id', None)\n",
    "            part.pop('metadata', None)\n",
    "\n",
    "            if kind == 'tool-return':\n",
    "                part['content'] = 'RETURN_RESULTS_REDACTED'\n",
    "\n",
    "            parts.append(part)\n",
    "\n",
    "        message = {'kind': m['kind'], 'parts': parts}\n",
    "        log_simplified.append(message)\n",
    "\n",
    "    return log_simplified\n"
   ]
  },
  {
   "cell_type": "code",
   "execution_count": 42,
   "id": "fbf4685b-7ab2-40e5-b3a5-4852ab22c1db",
   "metadata": {},
   "outputs": [],
   "source": [
    "async def evaluate_log_record(eval_agent, log_record):\n",
    "    messages = log_record['messages']\n",
    "\n",
    "    instructions = log_record['system_prompt']\n",
    "    question = messages[0]['parts'][0]['content']\n",
    "    answer = messages[-1]['parts'][0]['content']\n",
    "\n",
    "    log_simplified = simplify_log_messages(messages)\n",
    "    log = json.dumps(log_simplified, indent=2)\n",
    "\n",
    "    user_prompt = user_prompt_format.format(\n",
    "        instructions=instructions,\n",
    "        question=question,\n",
    "        answer=answer,\n",
    "        log=log\n",
    "    )\n",
    "\n",
    "    result = await eval_agent.run(user_prompt)\n",
    "    return result"
   ]
  },
  {
   "cell_type": "code",
   "execution_count": 43,
   "id": "b049fe96-98a3-44d6-8bcd-9fe55ff7c62c",
   "metadata": {},
   "outputs": [
    {
     "name": "stdout",
     "output_type": "stream",
     "text": [
      "AgentRunResult(data=\"- instructions_follow: true - The agent followed the instruction to use the hybrid search tool before answering\\n- instructions_avoid: true - The agent did not make up information and cited sources\\n- answer_relevant: false - The response does not address the user's implicit question about how to find information in the repository; instead it provides instructions on how to contribute/submit tasks\\n- answer_clear: false - The answer is unclear because it provides submission workflow steps rather than explaining how to search for or locate information within the repository\\n- answer_citations: true - The response includes citations to specific files in the repository\\n- completeness: false - The response is incomplete as it doesn't explain how to actually find or search for information within the repository contents\\n- tool_call_search: true - The hybrid search tool was invoked as required\")\n"
     ]
    }
   ],
   "source": [
    "log_record = load_log_file('./logs/web3bridge_agent_20251016_132914_963829.json')\n",
    "eval1 = await evaluate_log_record(eval_agent, log_record)\n",
    "print(eval1)"
   ]
  },
  {
   "cell_type": "markdown",
   "id": "95f99614-5850-4174-8018-890120ccf891",
   "metadata": {},
   "source": [
    "DATA GENERATION"
   ]
  },
  {
   "cell_type": "code",
   "execution_count": 58,
   "id": "58e8f454-f0fd-47cf-a250-b25f672f2586",
   "metadata": {},
   "outputs": [],
   "source": [
    "#Testing our agent, we need lot of realistic questions\n",
    "from pydantic import BaseModel\n",
    "question_generation_prompt = \"\"\"\n",
    "You are helping to create realistic test questions for an AI assistant designed to help new applicants preparing for the next Web3Bridge Cohort (Cohort XIV and beyond).\n",
    "\n",
    "Based on the provided materials, generate natural, varied questions that future participants might ask before or during the program.\n",
    "\n",
    "The questions should:\n",
    "- Sound like they’re coming from people interested in joining the program\n",
    "- Include questions about requirements, expectations, and preparation\n",
    "- Cover both technical topics (blockchain, Solidity, web3 tools) and general logistics (timeline, registration, mentorship, projects)\n",
    "- Range from beginner-friendly to moderately advanced\n",
    "\n",
    "Generate one question for each record.\n",
    "\"\"\".strip()\n",
    "\n",
    "class QuestionsList(BaseModel):\n",
    "    questions: list[str]\n",
    "\n",
    "question_generator = Agent(\n",
    "    name=\"question_generator\",\n",
    "    system_prompt=question_generation_prompt,\n",
    "    model='groq:llama-3.1-8b-instant',\n",
    "    tools=[]\n",
    ")"
   ]
  },
  {
   "cell_type": "code",
   "execution_count": 67,
   "id": "02d43c43-67f0-4b14-aafd-bac8c6b4f58d",
   "metadata": {},
   "outputs": [
    {
     "name": "stdout",
     "output_type": "stream",
     "text": [
      "\n",
      " Generating questions for batch 1...\n",
      " Got 6 questions.\n",
      "\n",
      " Generating questions for batch 2...\n",
      " Got 1 questions.\n",
      "\n",
      " All question generation complete.\n",
      "Total questions generated: 7\n"
     ]
    }
   ],
   "source": [
    "#sample 10 record, using groq so i have to do in batches\n",
    "import random\n",
    "\n",
    "MAX_RECORDS = 3\n",
    "BATCH_SIZE = 2  \n",
    "\n",
    "questions_all = []\n",
    "records_to_use = random.sample(web3_docs, min(MAX_RECORDS, len(web3_docs)))\n",
    "\n",
    "for i in range(0, len(records_to_use), BATCH_SIZE):\n",
    "    batch = records_to_use[i:i+BATCH_SIZE]\n",
    "    prompt_docs = [d.get('content', d.get('chunk', ''))[:300] for d in batch]\n",
    "    prompt = json.dumps(prompt_docs)\n",
    "\n",
    "    print(f\"\\n Generating questions for batch {i//BATCH_SIZE + 1}...\")\n",
    "    try:\n",
    "        result = await question_generator.run(prompt)\n",
    "        response = result.data\n",
    "\n",
    "        # Parse output safely\n",
    "        try:\n",
    "            data = json.loads(response)\n",
    "            batch_questions = data.get(\"questions\", [])\n",
    "        except:\n",
    "            batch_questions = [\n",
    "                q.strip(\"-• \").strip()\n",
    "                for q in response.split(\"\\n\")\n",
    "                if q.strip()\n",
    "            ]\n",
    "\n",
    "        questions_all.extend(batch_questions)\n",
    "        print(f\" Got {len(batch_questions)} questions.\")\n",
    "    except Exception as e:\n",
    "        print(f\" Error in batch {i//BATCH_SIZE + 1}: {e}\")\n",
    "        continue\n",
    "\n",
    "print(\"\\n All question generation complete.\")\n",
    "print(f\"Total questions generated: {len(questions_all)}\")\n"
   ]
  },
  {
   "cell_type": "code",
   "execution_count": 68,
   "id": "d583af8f-3628-47b9-b7c6-7a5edd42c929",
   "metadata": {},
   "outputs": [
    {
     "data": {
      "application/vnd.jupyter.widget-view+json": {
       "model_id": "45b7dd8e3109480b8a92a754532322b9",
       "version_major": 2,
       "version_minor": 0
      },
      "text/plain": [
       "  0%|          | 0/7 [00:00<?, ?it/s]"
      ]
     },
     "metadata": {},
     "output_type": "display_data"
    }
   ],
   "source": [
    "from tqdm.auto import tqdm\n",
    "\n",
    "for q in tqdm(questions_all):\n",
    "    #print(q)\n",
    "\n",
    "    result = await agent.run(user_prompt=q)\n",
    "    #print(result.data)\n",
    "\n",
    "    log_interaction_to_file(\n",
    "        agent,\n",
    "        result.new_messages(),\n",
    "        source='ai-generated'\n",
    "    )"
   ]
  },
  {
   "cell_type": "code",
   "execution_count": 70,
   "id": "1d86d1cd-332f-4b80-852c-ec2998668976",
   "metadata": {},
   "outputs": [],
   "source": [
    "#Evaluate our logs\n",
    "eval_set = []\n",
    "\n",
    "for log_file in LOG_DIR.glob('*.json'):\n",
    "    if \"web3bridge_agent_v2\" not in log_file.name:\n",
    "        continue\n",
    "\n",
    "    log_record = load_log_file(log_file)\n",
    "    if log_record['source'] != 'ai-generated':\n",
    "        continue\n",
    "\n",
    "    eval_set.append(log_record)"
   ]
  },
  {
   "cell_type": "code",
   "execution_count": 72,
   "id": "a95b2bda-efc8-405c-ab42-30ac0d90e844",
   "metadata": {},
   "outputs": [
    {
     "data": {
      "application/vnd.jupyter.widget-view+json": {
       "model_id": "c1ee904c6f8242c7a708b06548eb4dff",
       "version_major": 2,
       "version_minor": 0
      },
      "text/plain": [
       "  0%|          | 0/115 [00:00<?, ?it/s]"
      ]
     },
     "metadata": {},
     "output_type": "display_data"
    }
   ],
   "source": [
    "eval_results = []\n",
    "\n",
    "for log_record in tqdm(eval_set):\n",
    "    eval_result = await evaluate_log_record(eval_agent, log_record)\n",
    "    eval_results.append((log_record, eval_result))"
   ]
  },
  {
   "cell_type": "code",
   "execution_count": 87,
   "id": "d8c5af83-fbeb-45b7-83c7-81f8c5dc81aa",
   "metadata": {
    "scrolled": true
   },
   "outputs": [],
   "source": [
    "#reading our data\n",
    "\n",
    "rows = []\n",
    "\n",
    "for log_record, eval_result in eval_results:\n",
    "    messages = log_record[\"messages\"]\n",
    "\n",
    "    row = {\n",
    "        \"file\": str(log_record[\"log_file\"]),\n",
    "        \"question\": messages[0][\"parts\"][0][\"content\"],\n",
    "        \"answer\": messages[-1][\"parts\"][0][\"content\"],\n",
    "    }\n",
    "\n",
    "    pattern = r\"- (\\w+): (true|false)\"\n",
    "    matches = re.findall(pattern, eval_result.data.lower())\n",
    "\n",
    "    for check_name, check_value in matches:\n",
    "        row[check_name] = 1 if check_value == \"true\" else 0\n",
    "\n",
    "    rows.append(row)"
   ]
  },
  {
   "cell_type": "code",
   "execution_count": 88,
   "id": "fb57ab85-4283-4062-8abd-301ae20884e8",
   "metadata": {},
   "outputs": [],
   "source": [
    "import pandas as pd\n",
    "\n",
    "df_evals = pd.DataFrame(rows)"
   ]
  },
  {
   "cell_type": "code",
   "execution_count": 89,
   "id": "e2f4f3fd-58f8-4a4e-8a60-b88a999b688c",
   "metadata": {},
   "outputs": [
    {
     "name": "stdout",
     "output_type": "stream",
     "text": [
      "instructions_follow    0.771429\n",
      "instructions_avoid     1.000000\n",
      "answer_relevant        0.857143\n",
      "answer_clear           0.842857\n",
      "answer_citations       0.642857\n",
      "completeness           0.714286\n",
      "tool_call_search       0.971429\n",
      "dtype: float64\n"
     ]
    }
   ],
   "source": [
    "print(df_evals.mean(numeric_only=True))"
   ]
  },
  {
   "cell_type": "code",
   "execution_count": 92,
   "id": "908cf3f3-50f5-481a-b48b-8c4e898c27f4",
   "metadata": {},
   "outputs": [
    {
     "data": {
      "image/png": "[encoded data removed]",
      "text/plain": [
       "<Figure size 1000x500 with 1 Axes>"
      ]
     },
     "metadata": {},
     "output_type": "display_data"
    }
   ],
   "source": [
    "#plotting\n",
    "import matplotlib.pyplot as plt\n",
    "\n",
    "avg_scores = df_evals.mean(numeric_only=True)\n",
    "\n",
    "plt.figure(figsize=(10, 5))\n",
    "plt.bar(avg_scores.index, avg_scores.values)\n",
    "\n",
    "# Add labels and formatting\n",
    "plt.title(\"Average Pass Rate per Evaluation Check\", fontsize=14)\n",
    "plt.xlabel(\"Evaluation Check\", fontsize=12)\n",
    "plt.ylabel(\"Average Pass Rate\", fontsize=12)\n",
    "plt.ylim(0, 1) \n",
    "plt.xticks(rotation=45, ha='right')\n",
    "plt.grid(axis='y', linestyle='--', alpha=0.6)\n",
    "\n",
    "# Display the chart\n",
    "plt.tight_layout()\n",
    "plt.show()"
   ]
  },
  {
   "cell_type": "code",
   "execution_count": 93,
   "id": "2165d6fa-c14f-4fde-b7ad-bf76ab3a331c",
   "metadata": {},
   "outputs": [],
   "source": [
    "#calculate Hitrate and MRR\n",
    "def evaluate_search_quality(search_function, test_queries):\n",
    "    results = []\n",
    "    \n",
    "    for query, expected_docs in test_queries:\n",
    "        search_results = search_function(query, num_results=5)\n",
    "        \n",
    "        # Calculate hit rate\n",
    "        relevant_found = any(doc['filename'] in expected_docs for doc in search_results)\n",
    "        \n",
    "        # Calculate MRR\n",
    "        for i, doc in enumerate(search_results):\n",
    "            if doc['filename'] in expected_docs:\n",
    "                mrr = 1 / (i + 1)\n",
    "                break\n",
    "        else:\n",
    "            mrr = 0\n",
    "            \n",
    "        results.append({\n",
    "            'query': query,\n",
    "            'hit': relevant_found,\n",
    "            'mrr': mrr\n",
    "        })\n",
    "    return results"
   ]
  },
  {
   "cell_type": "code",
   "execution_count": 107,
   "id": "a8d8933d-548e-4c05-8c3d-c09509d1db49",
   "metadata": {},
   "outputs": [],
   "source": [
    "test_queries = [\n",
    "    (\n",
    "        \"what is a smart contract\",\n",
    "        [\n",
    "            \"Web3bridge-Web3-Cohort-XIII-main/onsite-program/tasks/week-6/smart-contract-week-task-1.md\",\n",
    "            \"Web3bridge-Web3-Cohort-XIII-main/online-program/tasks/week-6/smart-contract-week-task-1.md\"\n",
    "        ]\n",
    "    ),\n",
    "    (\n",
    "        \"what is the purpose of web3bridge\",\n",
    "        [\n",
    "            \"Web3bridge-Web3-Cohort-XIII-main/README.md\",\n",
    "            \"Web3bridge-Web3-Cohort-XIII-main/docs/mission.md\"\n",
    "        ]\n",
    "    ),\n",
    "]"
   ]
  },
  {
   "cell_type": "code",
   "execution_count": 108,
   "id": "7246b044-2beb-4e9f-8397-ec8197a389d9",
   "metadata": {},
   "outputs": [],
   "source": [
    "def hybrid_search_function(query, num_results=5):\n",
    "    results = hybrid_search_tool(query)\n",
    "    return results[:num_results] "
   ]
  },
  {
   "cell_type": "code",
   "execution_count": 109,
   "id": "8456915e-4a87-4579-8034-bd5d98ecd52e",
   "metadata": {},
   "outputs": [
    {
     "name": "stdout",
     "output_type": "stream",
     "text": [
      "                               query   hit  mrr\n",
      "0           what is a smart contract  True  1.0\n",
      "1  what is the purpose of web3bridge  True  0.5\n",
      "\n",
      " Average Hit Rate: 1.0\n",
      " Average MRR: 0.75\n"
     ]
    }
   ],
   "source": [
    "results = evaluate_search_quality(hybrid_search_function, test_queries)\n",
    "\n",
    "import pandas as pd\n",
    "df = pd.DataFrame(results)\n",
    "\n",
    "print(df)\n",
    "print(\"\\n Average Hit Rate:\", df[\"hit\"].mean())\n",
    "print(\" Average MRR:\", df[\"mrr\"].mean())"
   ]
  },
  {
   "cell_type": "code",
   "execution_count": 110,
   "id": "2a245ebb-d142-4059-ba99-a68e1cd2d65d",
   "metadata": {},
   "outputs": [
    {
     "data": {
      "image/png": "[encoded data removed]",
      "text/plain": [
       "<Figure size 600x400 with 1 Axes>"
      ]
     },
     "metadata": {},
     "output_type": "display_data"
    }
   ],
   "source": [
    "plt.figure(figsize=(6,4))\n",
    "plt.bar([\"Hit Rate\", \"MRR\"], [df[\"hit\"].mean(), df[\"mrr\"].mean()])\n",
    "plt.title(\"Search Quality Metrics\")\n",
    "plt.ylabel(\"Score\")\n",
    "plt.ylim(0, 1)\n",
    "plt.show()"
   ]
  },
  {
   "cell_type": "code",
   "execution_count": null,
   "id": "80e4788d-c224-4041-a39b-87593d331268",
   "metadata": {},
   "outputs": [],
   "source": []
  }
 ],
 "metadata": {
  "kernelspec": {
   "display_name": "Python 3 (ipykernel)",
   "language": "python",
   "name": "python3"
  },
  "language_info": {
   "codemirror_mode": {
    "name": "ipython",
    "version": 3
   },
   "file_extension": ".py",
   "mimetype": "text/x-python",
   "name": "python",
   "nbconvert_exporter": "python",
   "pygments_lexer": "ipython3",
   "version": "3.12.5"
  }
 },
 "nbformat": 4,
 "nbformat_minor": 5
}
